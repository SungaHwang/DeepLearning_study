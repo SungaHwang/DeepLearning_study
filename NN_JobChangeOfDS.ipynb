{
  "nbformat": 4,
  "nbformat_minor": 0,
  "metadata": {
    "colab": {
      "name": "NN_JobChangeOfDS.ipynb",
      "provenance": [],
      "collapsed_sections": [],
      "toc_visible": true
    },
    "kernelspec": {
      "name": "python3",
      "display_name": "Python 3"
    },
    "language_info": {
      "name": "python"
    }
  },
  "cells": [
    {
      "cell_type": "markdown",
      "metadata": {
        "id": "SgVAJ85qiRq5"
      },
      "source": [
        "# HR Analytics: Job Change Of Data Scientists\n",
        "* 인공신경망 실습"
      ]
    },
    {
      "cell_type": "markdown",
      "metadata": {
        "id": "_J4V1YrRizFT"
      },
      "source": [
        "# 데이터 설명(출처: Kaggle)\n",
        "\n",
        "* city: City code\n",
        "\n",
        "* city_ development _index : Developement index of the city (scaled)\n",
        "\n",
        "* gender: Gender of candidate\n",
        "\n",
        "* relevent_experience: Relevant experience of candidate\n",
        "\n",
        "* enrolled_university: Type of University course enrolled if any\n",
        "\n",
        "* education_level: Education level of candidate\n",
        "\n",
        "* major_discipline :Education major discipline of candidate\n",
        "\n",
        "* experience: Candidate total experience in years\n",
        "\n",
        "* company_size: No of employees in current employer's company\n",
        "\n",
        "* company_type : Type of current employer\n",
        "\n",
        "* lastnewjob: Difference in years between previous job and current job\n",
        "\n",
        "* training_hours: training hours completed\n",
        "\n",
        "* target: 0 – Not looking for job change, 1 – Looking for a job change\n"
      ]
    },
    {
      "cell_type": "markdown",
      "metadata": {
        "id": "TkhS_i8jH_Bp"
      },
      "source": [
        "데이터 사이언티스트들이 현재 새로운 직업을 찾고 있는지, 그렇지 않은지 분류하는 데이터 셋"
      ]
    },
    {
      "cell_type": "code",
      "metadata": {
        "id": "pK3ctSaHhlko"
      },
      "source": [
        "# 패키지 설치\n",
        "import numpy as np\n",
        "import pandas as pd \n",
        "import matplotlib.pyplot as plt\n",
        "%matplotlib inline\n",
        "import seaborn as sns\n",
        "\n",
        "from sklearn.model_selection import cross_val_score\n",
        "from sklearn.metrics import roc_auc_score, roc_curve, precision_recall_curve, precision_score, recall_score, auc\n",
        "from sklearn.metrics import confusion_matrix, plot_confusion_matrix\n",
        "from sklearn.metrics import classification_report, accuracy_score, f1_score"
      ],
      "execution_count": null,
      "outputs": []
    },
    {
      "cell_type": "code",
      "metadata": {
        "colab": {
          "base_uri": "https://localhost:8080/",
          "height": 434
        },
        "id": "L30wznLVlJaK",
        "outputId": "c619b755-0300-45f0-c7b7-794855afbc41"
      },
      "source": [
        "# 데이터 불러오기\n",
        "train = pd.read_csv('/content/aug_train.csv')\n",
        "train"
      ],
      "execution_count": null,
      "outputs": [
        {
          "output_type": "execute_result",
          "data": {
            "text/html": [
              "<div>\n",
              "<style scoped>\n",
              "    .dataframe tbody tr th:only-of-type {\n",
              "        vertical-align: middle;\n",
              "    }\n",
              "\n",
              "    .dataframe tbody tr th {\n",
              "        vertical-align: top;\n",
              "    }\n",
              "\n",
              "    .dataframe thead th {\n",
              "        text-align: right;\n",
              "    }\n",
              "</style>\n",
              "<table border=\"1\" class=\"dataframe\">\n",
              "  <thead>\n",
              "    <tr style=\"text-align: right;\">\n",
              "      <th></th>\n",
              "      <th>enrollee_id</th>\n",
              "      <th>city</th>\n",
              "      <th>city_development_index</th>\n",
              "      <th>gender</th>\n",
              "      <th>relevent_experience</th>\n",
              "      <th>enrolled_university</th>\n",
              "      <th>education_level</th>\n",
              "      <th>major_discipline</th>\n",
              "      <th>experience</th>\n",
              "      <th>company_size</th>\n",
              "      <th>company_type</th>\n",
              "      <th>last_new_job</th>\n",
              "      <th>training_hours</th>\n",
              "      <th>target</th>\n",
              "    </tr>\n",
              "  </thead>\n",
              "  <tbody>\n",
              "    <tr>\n",
              "      <th>0</th>\n",
              "      <td>8949</td>\n",
              "      <td>city_103</td>\n",
              "      <td>0.920</td>\n",
              "      <td>Male</td>\n",
              "      <td>Has relevent experience</td>\n",
              "      <td>no_enrollment</td>\n",
              "      <td>Graduate</td>\n",
              "      <td>STEM</td>\n",
              "      <td>&gt;20</td>\n",
              "      <td>NaN</td>\n",
              "      <td>NaN</td>\n",
              "      <td>1</td>\n",
              "      <td>36</td>\n",
              "      <td>1.0</td>\n",
              "    </tr>\n",
              "    <tr>\n",
              "      <th>1</th>\n",
              "      <td>29725</td>\n",
              "      <td>city_40</td>\n",
              "      <td>0.776</td>\n",
              "      <td>Male</td>\n",
              "      <td>No relevent experience</td>\n",
              "      <td>no_enrollment</td>\n",
              "      <td>Graduate</td>\n",
              "      <td>STEM</td>\n",
              "      <td>15</td>\n",
              "      <td>50-99</td>\n",
              "      <td>Pvt Ltd</td>\n",
              "      <td>&gt;4</td>\n",
              "      <td>47</td>\n",
              "      <td>0.0</td>\n",
              "    </tr>\n",
              "    <tr>\n",
              "      <th>2</th>\n",
              "      <td>11561</td>\n",
              "      <td>city_21</td>\n",
              "      <td>0.624</td>\n",
              "      <td>NaN</td>\n",
              "      <td>No relevent experience</td>\n",
              "      <td>Full time course</td>\n",
              "      <td>Graduate</td>\n",
              "      <td>STEM</td>\n",
              "      <td>5</td>\n",
              "      <td>NaN</td>\n",
              "      <td>NaN</td>\n",
              "      <td>never</td>\n",
              "      <td>83</td>\n",
              "      <td>0.0</td>\n",
              "    </tr>\n",
              "    <tr>\n",
              "      <th>3</th>\n",
              "      <td>33241</td>\n",
              "      <td>city_115</td>\n",
              "      <td>0.789</td>\n",
              "      <td>NaN</td>\n",
              "      <td>No relevent experience</td>\n",
              "      <td>NaN</td>\n",
              "      <td>Graduate</td>\n",
              "      <td>Business Degree</td>\n",
              "      <td>&lt;1</td>\n",
              "      <td>NaN</td>\n",
              "      <td>Pvt Ltd</td>\n",
              "      <td>never</td>\n",
              "      <td>52</td>\n",
              "      <td>1.0</td>\n",
              "    </tr>\n",
              "    <tr>\n",
              "      <th>4</th>\n",
              "      <td>666</td>\n",
              "      <td>city_162</td>\n",
              "      <td>0.767</td>\n",
              "      <td>Male</td>\n",
              "      <td>Has relevent experience</td>\n",
              "      <td>no_enrollment</td>\n",
              "      <td>Masters</td>\n",
              "      <td>STEM</td>\n",
              "      <td>&gt;20</td>\n",
              "      <td>50-99</td>\n",
              "      <td>Funded Startup</td>\n",
              "      <td>4</td>\n",
              "      <td>8</td>\n",
              "      <td>0.0</td>\n",
              "    </tr>\n",
              "    <tr>\n",
              "      <th>...</th>\n",
              "      <td>...</td>\n",
              "      <td>...</td>\n",
              "      <td>...</td>\n",
              "      <td>...</td>\n",
              "      <td>...</td>\n",
              "      <td>...</td>\n",
              "      <td>...</td>\n",
              "      <td>...</td>\n",
              "      <td>...</td>\n",
              "      <td>...</td>\n",
              "      <td>...</td>\n",
              "      <td>...</td>\n",
              "      <td>...</td>\n",
              "      <td>...</td>\n",
              "    </tr>\n",
              "    <tr>\n",
              "      <th>19153</th>\n",
              "      <td>7386</td>\n",
              "      <td>city_173</td>\n",
              "      <td>0.878</td>\n",
              "      <td>Male</td>\n",
              "      <td>No relevent experience</td>\n",
              "      <td>no_enrollment</td>\n",
              "      <td>Graduate</td>\n",
              "      <td>Humanities</td>\n",
              "      <td>14</td>\n",
              "      <td>NaN</td>\n",
              "      <td>NaN</td>\n",
              "      <td>1</td>\n",
              "      <td>42</td>\n",
              "      <td>1.0</td>\n",
              "    </tr>\n",
              "    <tr>\n",
              "      <th>19154</th>\n",
              "      <td>31398</td>\n",
              "      <td>city_103</td>\n",
              "      <td>0.920</td>\n",
              "      <td>Male</td>\n",
              "      <td>Has relevent experience</td>\n",
              "      <td>no_enrollment</td>\n",
              "      <td>Graduate</td>\n",
              "      <td>STEM</td>\n",
              "      <td>14</td>\n",
              "      <td>NaN</td>\n",
              "      <td>NaN</td>\n",
              "      <td>4</td>\n",
              "      <td>52</td>\n",
              "      <td>1.0</td>\n",
              "    </tr>\n",
              "    <tr>\n",
              "      <th>19155</th>\n",
              "      <td>24576</td>\n",
              "      <td>city_103</td>\n",
              "      <td>0.920</td>\n",
              "      <td>Male</td>\n",
              "      <td>Has relevent experience</td>\n",
              "      <td>no_enrollment</td>\n",
              "      <td>Graduate</td>\n",
              "      <td>STEM</td>\n",
              "      <td>&gt;20</td>\n",
              "      <td>50-99</td>\n",
              "      <td>Pvt Ltd</td>\n",
              "      <td>4</td>\n",
              "      <td>44</td>\n",
              "      <td>0.0</td>\n",
              "    </tr>\n",
              "    <tr>\n",
              "      <th>19156</th>\n",
              "      <td>5756</td>\n",
              "      <td>city_65</td>\n",
              "      <td>0.802</td>\n",
              "      <td>Male</td>\n",
              "      <td>Has relevent experience</td>\n",
              "      <td>no_enrollment</td>\n",
              "      <td>High School</td>\n",
              "      <td>NaN</td>\n",
              "      <td>&lt;1</td>\n",
              "      <td>500-999</td>\n",
              "      <td>Pvt Ltd</td>\n",
              "      <td>2</td>\n",
              "      <td>97</td>\n",
              "      <td>0.0</td>\n",
              "    </tr>\n",
              "    <tr>\n",
              "      <th>19157</th>\n",
              "      <td>23834</td>\n",
              "      <td>city_67</td>\n",
              "      <td>0.855</td>\n",
              "      <td>NaN</td>\n",
              "      <td>No relevent experience</td>\n",
              "      <td>no_enrollment</td>\n",
              "      <td>Primary School</td>\n",
              "      <td>NaN</td>\n",
              "      <td>2</td>\n",
              "      <td>NaN</td>\n",
              "      <td>NaN</td>\n",
              "      <td>1</td>\n",
              "      <td>127</td>\n",
              "      <td>0.0</td>\n",
              "    </tr>\n",
              "  </tbody>\n",
              "</table>\n",
              "<p>19158 rows × 14 columns</p>\n",
              "</div>"
            ],
            "text/plain": [
              "       enrollee_id      city  ...  training_hours target\n",
              "0             8949  city_103  ...              36    1.0\n",
              "1            29725   city_40  ...              47    0.0\n",
              "2            11561   city_21  ...              83    0.0\n",
              "3            33241  city_115  ...              52    1.0\n",
              "4              666  city_162  ...               8    0.0\n",
              "...            ...       ...  ...             ...    ...\n",
              "19153         7386  city_173  ...              42    1.0\n",
              "19154        31398  city_103  ...              52    1.0\n",
              "19155        24576  city_103  ...              44    0.0\n",
              "19156         5756   city_65  ...              97    0.0\n",
              "19157        23834   city_67  ...             127    0.0\n",
              "\n",
              "[19158 rows x 14 columns]"
            ]
          },
          "metadata": {},
          "execution_count": 2
        }
      ]
    },
    {
      "cell_type": "markdown",
      "metadata": {
        "id": "4P9wAJWtleuD"
      },
      "source": [
        "## EDA"
      ]
    },
    {
      "cell_type": "code",
      "metadata": {
        "colab": {
          "base_uri": "https://localhost:8080/",
          "height": 427
        },
        "id": "6Imoi3K7lxE9",
        "outputId": "d3154d5e-b7c8-4e1c-c5cc-8e9ec4fadddc"
      },
      "source": [
        "f, ax = plt.subplots(figsize=(7, 7))\n",
        "train['target'].value_counts().plot.pie(ax= ax, autopct='%1.1f%%',textprops={'fontsize': 12} )"
      ],
      "execution_count": null,
      "outputs": [
        {
          "output_type": "execute_result",
          "data": {
            "text/plain": [
              "<matplotlib.axes._subplots.AxesSubplot at 0x7fc8928a1590>"
            ]
          },
          "metadata": {},
          "execution_count": 3
        },
        {
          "output_type": "display_data",
          "data": {
            "image/png": "[encoded data removed]",
            "text/plain": [
              "<Figure size 504x504 with 1 Axes>"
            ]
          },
          "metadata": {}
        }
      ]
    },
    {
      "cell_type": "markdown",
      "metadata": {
        "id": "T1fGrvfDl11c"
      },
      "source": [
        "* 타겟 값의 불균형 보임 -> 딥러닝에서는 데이터의 수가 많은 것이 더 성능이 좋으므로 oversampling 이용하기로 결정"
      ]
    },
    {
      "cell_type": "code",
      "metadata": {
        "colab": {
          "base_uri": "https://localhost:8080/"
        },
        "id": "jCOiL-q-ldEW",
        "outputId": "7800babf-9738-43bf-f5af-54122102f8f1"
      },
      "source": [
        "print(train.info())\n",
        "print(train.isnull().sum())"
      ],
      "execution_count": null,
      "outputs": [
        {
          "output_type": "stream",
          "name": "stdout",
          "text": [
            "<class 'pandas.core.frame.DataFrame'>\n",
            "RangeIndex: 19158 entries, 0 to 19157\n",
            "Data columns (total 14 columns):\n",
            " #   Column                  Non-Null Count  Dtype  \n",
            "---  ------                  --------------  -----  \n",
            " 0   enrollee_id             19158 non-null  int64  \n",
            " 1   city                    19158 non-null  object \n",
            " 2   city_development_index  19158 non-null  float64\n",
            " 3   gender                  14650 non-null  object \n",
            " 4   relevent_experience     19158 non-null  object \n",
            " 5   enrolled_university     18772 non-null  object \n",
            " 6   education_level         18698 non-null  object \n",
            " 7   major_discipline        16345 non-null  object \n",
            " 8   experience              19093 non-null  object \n",
            " 9   company_size            13220 non-null  object \n",
            " 10  company_type            13018 non-null  object \n",
            " 11  last_new_job            18735 non-null  object \n",
            " 12  training_hours          19158 non-null  int64  \n",
            " 13  target                  19158 non-null  float64\n",
            "dtypes: float64(2), int64(2), object(10)\n",
            "memory usage: 2.0+ MB\n",
            "None\n",
            "enrollee_id                  0\n",
            "city                         0\n",
            "city_development_index       0\n",
            "gender                    4508\n",
            "relevent_experience          0\n",
            "enrolled_university        386\n",
            "education_level            460\n",
            "major_discipline          2813\n",
            "experience                  65\n",
            "company_size              5938\n",
            "company_type              6140\n",
            "last_new_job               423\n",
            "training_hours               0\n",
            "target                       0\n",
            "dtype: int64\n"
          ]
        }
      ]
    },
    {
      "cell_type": "markdown",
      "metadata": {
        "id": "znI3_V4nIW5_"
      },
      "source": [
        "* 꽤 많은 결측값이 보여, 이를 채우기 위해 EDA를 진행해 봄"
      ]
    },
    {
      "cell_type": "code",
      "metadata": {
        "colab": {
          "base_uri": "https://localhost:8080/",
          "height": 404
        },
        "id": "tF3mh2Jhneou",
        "outputId": "2fa804b9-0e22-4738-dfcb-e1521fed9bfa"
      },
      "source": [
        "plt.figure(figsize = (8,6))\n",
        "sns.countplot(data = train, x = 'gender', hue = train['target'])"
      ],
      "execution_count": null,
      "outputs": [
        {
          "output_type": "execute_result",
          "data": {
            "text/plain": [
              "<matplotlib.axes._subplots.AxesSubplot at 0x7fc87f91fa90>"
            ]
          },
          "metadata": {},
          "execution_count": 5
        },
        {
          "output_type": "display_data",
          "data": {
            "image/png": "[encoded data removed]",
            "text/plain": [
              "<Figure size 576x432 with 1 Axes>"
            ]
          },
          "metadata": {
            "needs_background": "light"
          }
        }
      ]
    },
    {
      "cell_type": "code",
      "metadata": {
        "colab": {
          "base_uri": "https://localhost:8080/",
          "height": 405
        },
        "id": "eX9rpyMXnerg",
        "outputId": "ab343799-81f8-4aa8-a838-89d971f673bf"
      },
      "source": [
        "plt.figure(figsize = (8,6))\n",
        "sns.countplot(data = train, x = 'relevent_experience', hue = train['target'])"
      ],
      "execution_count": null,
      "outputs": [
        {
          "output_type": "execute_result",
          "data": {
            "text/plain": [
              "<matplotlib.axes._subplots.AxesSubplot at 0x7fc87f688f10>"
            ]
          },
          "metadata": {},
          "execution_count": 6
        },
        {
          "output_type": "display_data",
          "data": {
            "image/png": "[encoded data removed]",
            "text/plain": [
              "<Figure size 576x432 with 1 Axes>"
            ]
          },
          "metadata": {
            "needs_background": "light"
          }
        }
      ]
    },
    {
      "cell_type": "code",
      "metadata": {
        "colab": {
          "base_uri": "https://localhost:8080/",
          "height": 406
        },
        "id": "q4sKT8keneug",
        "outputId": "09e88c4a-ad84-4b36-9d24-491689b1f35b"
      },
      "source": [
        "plt.figure(figsize = (8,6))\n",
        "sns.countplot(data = train, x = 'enrolled_university', hue = train['target'])"
      ],
      "execution_count": null,
      "outputs": [
        {
          "output_type": "execute_result",
          "data": {
            "text/plain": [
              "<matplotlib.axes._subplots.AxesSubplot at 0x7fc87e09f610>"
            ]
          },
          "metadata": {},
          "execution_count": 7
        },
        {
          "output_type": "display_data",
          "data": {
            "image/png": "[encoded data removed]",
            "text/plain": [
              "<Figure size 576x432 with 1 Axes>"
            ]
          },
          "metadata": {
            "needs_background": "light"
          }
        }
      ]
    },
    {
      "cell_type": "code",
      "metadata": {
        "colab": {
          "base_uri": "https://localhost:8080/",
          "height": 405
        },
        "id": "hnaStjdbnexL",
        "outputId": "bb394aa8-2e72-41ba-c7bd-85793dd4dc12"
      },
      "source": [
        "plt.figure(figsize = (8,6))\n",
        "sns.countplot(data = train, x = 'education_level', hue = train['target'])"
      ],
      "execution_count": null,
      "outputs": [
        {
          "output_type": "execute_result",
          "data": {
            "text/plain": [
              "<matplotlib.axes._subplots.AxesSubplot at 0x7fc87e0a40d0>"
            ]
          },
          "metadata": {},
          "execution_count": 8
        },
        {
          "output_type": "display_data",
          "data": {
            "image/png": "[encoded data removed]",
            "text/plain": [
              "<Figure size 576x432 with 1 Axes>"
            ]
          },
          "metadata": {
            "needs_background": "light"
          }
        }
      ]
    },
    {
      "cell_type": "code",
      "metadata": {
        "colab": {
          "base_uri": "https://localhost:8080/",
          "height": 405
        },
        "id": "qwyU57h8pnH3",
        "outputId": "cf533f1e-ea16-4744-af59-f1540601f4ca"
      },
      "source": [
        "plt.figure(figsize = (8,6))\n",
        "sns.countplot(data = train, x = 'major_discipline', hue = train['target'])"
      ],
      "execution_count": null,
      "outputs": [
        {
          "output_type": "execute_result",
          "data": {
            "text/plain": [
              "<matplotlib.axes._subplots.AxesSubplot at 0x7fc87dfa75d0>"
            ]
          },
          "metadata": {},
          "execution_count": 9
        },
        {
          "output_type": "display_data",
          "data": {
            "image/png": "[encoded data removed]",
            "text/plain": [
              "<Figure size 576x432 with 1 Axes>"
            ]
          },
          "metadata": {
            "needs_background": "light"
          }
        }
      ]
    },
    {
      "cell_type": "code",
      "metadata": {
        "colab": {
          "base_uri": "https://localhost:8080/",
          "height": 404
        },
        "id": "8kgWZKCfpwXK",
        "outputId": "9f000e6a-e725-475f-e200-e87bad71bd11"
      },
      "source": [
        "plt.figure(figsize = (8,6))\n",
        "sns.countplot(data = train, x = 'experience', hue = train['target'])"
      ],
      "execution_count": null,
      "outputs": [
        {
          "output_type": "execute_result",
          "data": {
            "text/plain": [
              "<matplotlib.axes._subplots.AxesSubplot at 0x7fc87df2c350>"
            ]
          },
          "metadata": {},
          "execution_count": 10
        },
        {
          "output_type": "display_data",
          "data": {
            "image/png": "[encoded data removed]",
            "text/plain": [
              "<Figure size 576x432 with 1 Axes>"
            ]
          },
          "metadata": {
            "needs_background": "light"
          }
        }
      ]
    },
    {
      "cell_type": "code",
      "metadata": {
        "colab": {
          "base_uri": "https://localhost:8080/",
          "height": 405
        },
        "id": "nwTMuXq7p7Ll",
        "outputId": "1e06b2b1-6653-4682-e6a6-524fe1f8b57c"
      },
      "source": [
        "plt.figure(figsize = (8,6))\n",
        "sns.countplot(data = train, x = 'company_size', hue = train['target'])"
      ],
      "execution_count": null,
      "outputs": [
        {
          "output_type": "execute_result",
          "data": {
            "text/plain": [
              "<matplotlib.axes._subplots.AxesSubplot at 0x7fc87df39e90>"
            ]
          },
          "metadata": {},
          "execution_count": 11
        },
        {
          "output_type": "display_data",
          "data": {
            "image/png": "[encoded data removed]",
            "text/plain": [
              "<Figure size 576x432 with 1 Axes>"
            ]
          },
          "metadata": {
            "needs_background": "light"
          }
        }
      ]
    },
    {
      "cell_type": "code",
      "metadata": {
        "colab": {
          "base_uri": "https://localhost:8080/",
          "height": 404
        },
        "id": "VK0jiL2Lp7TF",
        "outputId": "cf9a0f89-88a9-4dc5-cfdc-c4fd02f183bf"
      },
      "source": [
        "plt.figure(figsize = (8,6))\n",
        "sns.countplot(data = train, x = 'company_type', hue = train['target'])"
      ],
      "execution_count": null,
      "outputs": [
        {
          "output_type": "execute_result",
          "data": {
            "text/plain": [
              "<matplotlib.axes._subplots.AxesSubplot at 0x7fc87ddd25d0>"
            ]
          },
          "metadata": {},
          "execution_count": 12
        },
        {
          "output_type": "display_data",
          "data": {
            "image/png": "[encoded data removed]",
            "text/plain": [
              "<Figure size 576x432 with 1 Axes>"
            ]
          },
          "metadata": {
            "needs_background": "light"
          }
        }
      ]
    },
    {
      "cell_type": "code",
      "metadata": {
        "colab": {
          "base_uri": "https://localhost:8080/",
          "height": 405
        },
        "id": "Q5t2RGbrp7Yb",
        "outputId": "061027ea-deb1-493c-9388-0e51edff1a92"
      },
      "source": [
        "plt.figure(figsize = (8,6))\n",
        "sns.countplot(data = train, x = 'last_new_job', hue = train['target'])"
      ],
      "execution_count": null,
      "outputs": [
        {
          "output_type": "execute_result",
          "data": {
            "text/plain": [
              "<matplotlib.axes._subplots.AxesSubplot at 0x7fc87dd76810>"
            ]
          },
          "metadata": {},
          "execution_count": 13
        },
        {
          "output_type": "display_data",
          "data": {
            "image/png": "[encoded data removed]",
            "text/plain": [
              "<Figure size 576x432 with 1 Axes>"
            ]
          },
          "metadata": {
            "needs_background": "light"
          }
        }
      ]
    },
    {
      "cell_type": "code",
      "metadata": {
        "colab": {
          "base_uri": "https://localhost:8080/",
          "height": 220
        },
        "id": "8O5Acb7LtrpM",
        "outputId": "63c497b0-0d26-4d01-b8e3-2393b9c2541a"
      },
      "source": [
        "plt.figure(figsize = (70,10))\n",
        "sns.countplot(data = train, x = 'city')"
      ],
      "execution_count": null,
      "outputs": [
        {
          "output_type": "execute_result",
          "data": {
            "text/plain": [
              "<matplotlib.axes._subplots.AxesSubplot at 0x7fc87dc1c950>"
            ]
          },
          "metadata": {},
          "execution_count": 14
        },
        {
          "output_type": "display_data",
          "data": {
            "image/png": "[encoded data removed]",
            "text/plain": [
              "<Figure size 5040x720 with 1 Axes>"
            ]
          },
          "metadata": {
            "needs_background": "light"
          }
        }
      ]
    },
    {
      "cell_type": "code",
      "metadata": {
        "id": "gcu3ccPaErCT",
        "colab": {
          "base_uri": "https://localhost:8080/",
          "height": 351
        },
        "outputId": "a447bbd0-df58-4862-ca16-0c15f55d1e62"
      },
      "source": [
        "plt.figure(figsize=(12, 5))\n",
        "sns.kdeplot(data= train, x=\"city_development_index\", hue=\"target\",cut = 0,palette='Set1')"
      ],
      "execution_count": null,
      "outputs": [
        {
          "output_type": "execute_result",
          "data": {
            "text/plain": [
              "<matplotlib.axes._subplots.AxesSubplot at 0x7fc87dc6cad0>"
            ]
          },
          "metadata": {},
          "execution_count": 15
        },
        {
          "output_type": "display_data",
          "data": {
            "image/png": "[encoded data removed]",
            "text/plain": [
              "<Figure size 864x360 with 1 Axes>"
            ]
          },
          "metadata": {
            "needs_background": "light"
          }
        }
      ]
    },
    {
      "cell_type": "markdown",
      "metadata": {
        "id": "xDcOdNMjLXfe"
      },
      "source": [
        "* developed cities에 사는 사람들이 직업을 바꿀 확률이 더 적다"
      ]
    },
    {
      "cell_type": "code",
      "metadata": {
        "colab": {
          "base_uri": "https://localhost:8080/",
          "height": 405
        },
        "id": "1ZXcLPmRtDMq",
        "outputId": "698da182-69f0-4b0d-874b-73bc1723c192"
      },
      "source": [
        "plt.figure(figsize = (8,6))\n",
        "sns.histplot(data = train, x = 'training_hours', hue = train['target'])"
      ],
      "execution_count": null,
      "outputs": [
        {
          "output_type": "execute_result",
          "data": {
            "text/plain": [
              "<matplotlib.axes._subplots.AxesSubplot at 0x7fc87ddb7990>"
            ]
          },
          "metadata": {},
          "execution_count": 16
        },
        {
          "output_type": "display_data",
          "data": {
            "image/png": "[encoded data removed]",
            "text/plain": [
              "<Figure size 576x432 with 1 Axes>"
            ]
          },
          "metadata": {
            "needs_background": "light"
          }
        }
      ]
    },
    {
      "cell_type": "markdown",
      "metadata": {
        "id": "arFUuRNB5MZW"
      },
      "source": [
        "## 전처리"
      ]
    },
    {
      "cell_type": "markdown",
      "metadata": {
        "id": "6SXThbZgKeWL"
      },
      "source": [
        "### 범위를 숫자로"
      ]
    },
    {
      "cell_type": "code",
      "metadata": {
        "colab": {
          "base_uri": "https://localhost:8080/"
        },
        "id": "YgFlOPuY9RIU",
        "outputId": "b203f5d3-a27d-4a84-e74a-c07be624a02f"
      },
      "source": [
        "train['experience'].unique()"
      ],
      "execution_count": null,
      "outputs": [
        {
          "output_type": "execute_result",
          "data": {
            "text/plain": [
              "array(['>20', '15', '5', '<1', '11', '13', '7', '17', '2', '16', '1', '4',\n",
              "       '10', '14', '18', '19', '12', '3', '6', '9', '8', '20', nan],\n",
              "      dtype=object)"
            ]
          },
          "metadata": {},
          "execution_count": 17
        }
      ]
    },
    {
      "cell_type": "code",
      "metadata": {
        "id": "05ag62UK9RLG"
      },
      "source": [
        "def replace1(experience):\n",
        "    if experience == '>20':\n",
        "        return 21\n",
        "    elif experience == '<1':\n",
        "        return 0\n",
        "\n",
        "    else:\n",
        "        return experience"
      ],
      "execution_count": null,
      "outputs": []
    },
    {
      "cell_type": "code",
      "metadata": {
        "colab": {
          "base_uri": "https://localhost:8080/"
        },
        "id": "Kduxy4W79RNw",
        "outputId": "b1c54652-8a85-46ff-c9fd-99f97c2ee923"
      },
      "source": [
        "train.experience = train.experience.map(replace1)\n",
        "train['experience'].unique()"
      ],
      "execution_count": null,
      "outputs": [
        {
          "output_type": "execute_result",
          "data": {
            "text/plain": [
              "array([21, '15', '5', 0, '11', '13', '7', '17', '2', '16', '1', '4', '10',\n",
              "       '14', '18', '19', '12', '3', '6', '9', '8', '20', nan],\n",
              "      dtype=object)"
            ]
          },
          "metadata": {},
          "execution_count": 19
        }
      ]
    },
    {
      "cell_type": "code",
      "metadata": {
        "colab": {
          "base_uri": "https://localhost:8080/"
        },
        "id": "MaqUt-9n-oKh",
        "outputId": "185cd6c1-94f9-4808-e72b-dcd72b8d4879"
      },
      "source": [
        "train['last_new_job'].unique()"
      ],
      "execution_count": null,
      "outputs": [
        {
          "output_type": "execute_result",
          "data": {
            "text/plain": [
              "array(['1', '>4', 'never', '4', '3', '2', nan], dtype=object)"
            ]
          },
          "metadata": {},
          "execution_count": 20
        }
      ]
    },
    {
      "cell_type": "code",
      "metadata": {
        "id": "CbVyx3hs-RQN"
      },
      "source": [
        "def replace2(last_new_job):\n",
        "    if last_new_job == '>4':\n",
        "        return 5\n",
        "    elif last_new_job == 'never':\n",
        "        return 0\n",
        "\n",
        "    else:\n",
        "        return last_new_job"
      ],
      "execution_count": null,
      "outputs": []
    },
    {
      "cell_type": "code",
      "metadata": {
        "colab": {
          "base_uri": "https://localhost:8080/"
        },
        "id": "lRsGotwi-vGY",
        "outputId": "bc354f74-c258-4732-b5cc-ff4e49636dea"
      },
      "source": [
        "train.last_new_job = train.last_new_job.map(replace2)\n",
        "train['last_new_job'].unique()"
      ],
      "execution_count": null,
      "outputs": [
        {
          "output_type": "execute_result",
          "data": {
            "text/plain": [
              "array(['1', 5, 0, '4', '3', '2', nan], dtype=object)"
            ]
          },
          "metadata": {},
          "execution_count": 22
        }
      ]
    },
    {
      "cell_type": "code",
      "metadata": {
        "colab": {
          "base_uri": "https://localhost:8080/"
        },
        "id": "l7wOcbFg_Hvg",
        "outputId": "37d294ae-6b7d-4c3f-b96b-1e808b3997ae"
      },
      "source": [
        "train['company_size'].unique()"
      ],
      "execution_count": null,
      "outputs": [
        {
          "output_type": "execute_result",
          "data": {
            "text/plain": [
              "array([nan, '50-99', '<10', '10000+', '5000-9999', '1000-4999', '10/49',\n",
              "       '100-500', '500-999'], dtype=object)"
            ]
          },
          "metadata": {},
          "execution_count": 23
        }
      ]
    },
    {
      "cell_type": "code",
      "metadata": {
        "id": "pLtDfctg_HyF"
      },
      "source": [
        "def replace3(company_size):\n",
        "    if company_size == '<10':\n",
        "        return 9\n",
        "    elif company_size == '10000+':\n",
        "        return 10001\n",
        "    elif company_size == '50-99':\n",
        "        return 75\n",
        "    elif company_size == '5000-9999':\n",
        "        return 7500\n",
        "    elif company_size == '10/49':\n",
        "        return 25\n",
        "    elif company_size == '1000-4999':\n",
        "        return 25000\n",
        "    elif company_size == '100-500':\n",
        "        return 300\n",
        "    elif company_size == '500-999':\n",
        "        return 750\n",
        "\n",
        "    else:\n",
        "        return company_size"
      ],
      "execution_count": null,
      "outputs": []
    },
    {
      "cell_type": "code",
      "metadata": {
        "colab": {
          "base_uri": "https://localhost:8080/"
        },
        "id": "2Pnmqw6e_H1m",
        "outputId": "cc409102-639f-4402-a830-f7fa7bcde2a1"
      },
      "source": [
        "train.company_size = train.company_size.map(replace3)\n",
        "train['company_size'].unique()"
      ],
      "execution_count": null,
      "outputs": [
        {
          "output_type": "execute_result",
          "data": {
            "text/plain": [
              "array([       nan, 7.5000e+01, 9.0000e+00, 1.0001e+04, 7.5000e+03,\n",
              "       2.5000e+04, 2.5000e+01, 3.0000e+02, 7.5000e+02])"
            ]
          },
          "metadata": {},
          "execution_count": 25
        }
      ]
    },
    {
      "cell_type": "markdown",
      "metadata": {
        "id": "3mAYfvHNKkyT"
      },
      "source": [
        "### 분석에 필요 없는 칼럼 삭제"
      ]
    },
    {
      "cell_type": "code",
      "metadata": {
        "id": "HWjc8pGm-951"
      },
      "source": [
        "train.drop(['enrollee_id', 'city'], axis = 1, inplace = True)"
      ],
      "execution_count": null,
      "outputs": []
    },
    {
      "cell_type": "markdown",
      "metadata": {
        "id": "brOEePyFKBlG"
      },
      "source": [
        "city는 범주가 너무 많아 분석 결과에 좋지 않은 영향을 끼칠 것이라고 판단"
      ]
    },
    {
      "cell_type": "code",
      "metadata": {
        "colab": {
          "base_uri": "https://localhost:8080/",
          "height": 434
        },
        "id": "SDQzQaqsCK-a",
        "outputId": "df50fa5e-4481-4fc1-cfe7-f67cf7a443da"
      },
      "source": [
        "train"
      ],
      "execution_count": null,
      "outputs": [
        {
          "output_type": "execute_result",
          "data": {
            "text/html": [
              "<div>\n",
              "<style scoped>\n",
              "    .dataframe tbody tr th:only-of-type {\n",
              "        vertical-align: middle;\n",
              "    }\n",
              "\n",
              "    .dataframe tbody tr th {\n",
              "        vertical-align: top;\n",
              "    }\n",
              "\n",
              "    .dataframe thead th {\n",
              "        text-align: right;\n",
              "    }\n",
              "</style>\n",
              "<table border=\"1\" class=\"dataframe\">\n",
              "  <thead>\n",
              "    <tr style=\"text-align: right;\">\n",
              "      <th></th>\n",
              "      <th>city_development_index</th>\n",
              "      <th>gender</th>\n",
              "      <th>relevent_experience</th>\n",
              "      <th>enrolled_university</th>\n",
              "      <th>education_level</th>\n",
              "      <th>major_discipline</th>\n",
              "      <th>experience</th>\n",
              "      <th>company_size</th>\n",
              "      <th>company_type</th>\n",
              "      <th>last_new_job</th>\n",
              "      <th>training_hours</th>\n",
              "      <th>target</th>\n",
              "    </tr>\n",
              "  </thead>\n",
              "  <tbody>\n",
              "    <tr>\n",
              "      <th>0</th>\n",
              "      <td>0.920</td>\n",
              "      <td>Male</td>\n",
              "      <td>Has relevent experience</td>\n",
              "      <td>no_enrollment</td>\n",
              "      <td>Graduate</td>\n",
              "      <td>STEM</td>\n",
              "      <td>21</td>\n",
              "      <td>NaN</td>\n",
              "      <td>NaN</td>\n",
              "      <td>1</td>\n",
              "      <td>36</td>\n",
              "      <td>1.0</td>\n",
              "    </tr>\n",
              "    <tr>\n",
              "      <th>1</th>\n",
              "      <td>0.776</td>\n",
              "      <td>Male</td>\n",
              "      <td>No relevent experience</td>\n",
              "      <td>no_enrollment</td>\n",
              "      <td>Graduate</td>\n",
              "      <td>STEM</td>\n",
              "      <td>15</td>\n",
              "      <td>75.0</td>\n",
              "      <td>Pvt Ltd</td>\n",
              "      <td>5</td>\n",
              "      <td>47</td>\n",
              "      <td>0.0</td>\n",
              "    </tr>\n",
              "    <tr>\n",
              "      <th>2</th>\n",
              "      <td>0.624</td>\n",
              "      <td>NaN</td>\n",
              "      <td>No relevent experience</td>\n",
              "      <td>Full time course</td>\n",
              "      <td>Graduate</td>\n",
              "      <td>STEM</td>\n",
              "      <td>5</td>\n",
              "      <td>NaN</td>\n",
              "      <td>NaN</td>\n",
              "      <td>0</td>\n",
              "      <td>83</td>\n",
              "      <td>0.0</td>\n",
              "    </tr>\n",
              "    <tr>\n",
              "      <th>3</th>\n",
              "      <td>0.789</td>\n",
              "      <td>NaN</td>\n",
              "      <td>No relevent experience</td>\n",
              "      <td>NaN</td>\n",
              "      <td>Graduate</td>\n",
              "      <td>Business Degree</td>\n",
              "      <td>0</td>\n",
              "      <td>NaN</td>\n",
              "      <td>Pvt Ltd</td>\n",
              "      <td>0</td>\n",
              "      <td>52</td>\n",
              "      <td>1.0</td>\n",
              "    </tr>\n",
              "    <tr>\n",
              "      <th>4</th>\n",
              "      <td>0.767</td>\n",
              "      <td>Male</td>\n",
              "      <td>Has relevent experience</td>\n",
              "      <td>no_enrollment</td>\n",
              "      <td>Masters</td>\n",
              "      <td>STEM</td>\n",
              "      <td>21</td>\n",
              "      <td>75.0</td>\n",
              "      <td>Funded Startup</td>\n",
              "      <td>4</td>\n",
              "      <td>8</td>\n",
              "      <td>0.0</td>\n",
              "    </tr>\n",
              "    <tr>\n",
              "      <th>...</th>\n",
              "      <td>...</td>\n",
              "      <td>...</td>\n",
              "      <td>...</td>\n",
              "      <td>...</td>\n",
              "      <td>...</td>\n",
              "      <td>...</td>\n",
              "      <td>...</td>\n",
              "      <td>...</td>\n",
              "      <td>...</td>\n",
              "      <td>...</td>\n",
              "      <td>...</td>\n",
              "      <td>...</td>\n",
              "    </tr>\n",
              "    <tr>\n",
              "      <th>19153</th>\n",
              "      <td>0.878</td>\n",
              "      <td>Male</td>\n",
              "      <td>No relevent experience</td>\n",
              "      <td>no_enrollment</td>\n",
              "      <td>Graduate</td>\n",
              "      <td>Humanities</td>\n",
              "      <td>14</td>\n",
              "      <td>NaN</td>\n",
              "      <td>NaN</td>\n",
              "      <td>1</td>\n",
              "      <td>42</td>\n",
              "      <td>1.0</td>\n",
              "    </tr>\n",
              "    <tr>\n",
              "      <th>19154</th>\n",
              "      <td>0.920</td>\n",
              "      <td>Male</td>\n",
              "      <td>Has relevent experience</td>\n",
              "      <td>no_enrollment</td>\n",
              "      <td>Graduate</td>\n",
              "      <td>STEM</td>\n",
              "      <td>14</td>\n",
              "      <td>NaN</td>\n",
              "      <td>NaN</td>\n",
              "      <td>4</td>\n",
              "      <td>52</td>\n",
              "      <td>1.0</td>\n",
              "    </tr>\n",
              "    <tr>\n",
              "      <th>19155</th>\n",
              "      <td>0.920</td>\n",
              "      <td>Male</td>\n",
              "      <td>Has relevent experience</td>\n",
              "      <td>no_enrollment</td>\n",
              "      <td>Graduate</td>\n",
              "      <td>STEM</td>\n",
              "      <td>21</td>\n",
              "      <td>75.0</td>\n",
              "      <td>Pvt Ltd</td>\n",
              "      <td>4</td>\n",
              "      <td>44</td>\n",
              "      <td>0.0</td>\n",
              "    </tr>\n",
              "    <tr>\n",
              "      <th>19156</th>\n",
              "      <td>0.802</td>\n",
              "      <td>Male</td>\n",
              "      <td>Has relevent experience</td>\n",
              "      <td>no_enrollment</td>\n",
              "      <td>High School</td>\n",
              "      <td>NaN</td>\n",
              "      <td>0</td>\n",
              "      <td>750.0</td>\n",
              "      <td>Pvt Ltd</td>\n",
              "      <td>2</td>\n",
              "      <td>97</td>\n",
              "      <td>0.0</td>\n",
              "    </tr>\n",
              "    <tr>\n",
              "      <th>19157</th>\n",
              "      <td>0.855</td>\n",
              "      <td>NaN</td>\n",
              "      <td>No relevent experience</td>\n",
              "      <td>no_enrollment</td>\n",
              "      <td>Primary School</td>\n",
              "      <td>NaN</td>\n",
              "      <td>2</td>\n",
              "      <td>NaN</td>\n",
              "      <td>NaN</td>\n",
              "      <td>1</td>\n",
              "      <td>127</td>\n",
              "      <td>0.0</td>\n",
              "    </tr>\n",
              "  </tbody>\n",
              "</table>\n",
              "<p>19158 rows × 12 columns</p>\n",
              "</div>"
            ],
            "text/plain": [
              "       city_development_index gender  ... training_hours target\n",
              "0                       0.920   Male  ...             36    1.0\n",
              "1                       0.776   Male  ...             47    0.0\n",
              "2                       0.624    NaN  ...             83    0.0\n",
              "3                       0.789    NaN  ...             52    1.0\n",
              "4                       0.767   Male  ...              8    0.0\n",
              "...                       ...    ...  ...            ...    ...\n",
              "19153                   0.878   Male  ...             42    1.0\n",
              "19154                   0.920   Male  ...             52    1.0\n",
              "19155                   0.920   Male  ...             44    0.0\n",
              "19156                   0.802   Male  ...             97    0.0\n",
              "19157                   0.855    NaN  ...            127    0.0\n",
              "\n",
              "[19158 rows x 12 columns]"
            ]
          },
          "metadata": {},
          "execution_count": 27
        }
      ]
    },
    {
      "cell_type": "markdown",
      "metadata": {
        "id": "1uj93VGBOfQK"
      },
      "source": [
        "### 결측 값 처리"
      ]
    },
    {
      "cell_type": "markdown",
      "metadata": {
        "id": "uGzgSSRTKSgK"
      },
      "source": [
        "* EDA를 바탕으로 가장 많게 나온 값으로 결측값을 대체했고, \n",
        "* Company_size 만 범주의 빈도가 비슷하여 평균값으로 대체"
      ]
    },
    {
      "cell_type": "code",
      "metadata": {
        "id": "Fd4HDq8FSHi7"
      },
      "source": [
        "train[\"gender\"].fillna(\"Male\", inplace = True)\n",
        "train[\"enrolled_university\"].fillna(\"no_enrollment\", inplace = True)\n",
        "train[\"education_level\"].fillna(\"Graduate\", inplace = True)\n",
        "train[\"major_discipline\"].fillna(\"STEM\", inplace = True)\n",
        "train[\"experience\"].fillna(\"20\", inplace = True)\n",
        "train[\"company_size\"].fillna(train[\"company_size\"].mean(), inplace = True)\n",
        "train[\"company_type\"].fillna(\"Pvt Ltd\", inplace = True)\n",
        "train[\"last_new_job\"].fillna(\"1\", inplace = True)"
      ],
      "execution_count": null,
      "outputs": []
    },
    {
      "cell_type": "code",
      "metadata": {
        "colab": {
          "base_uri": "https://localhost:8080/",
          "height": 434
        },
        "id": "cj5r926rSExZ",
        "outputId": "4a15fd7c-552c-4871-e307-7c50c74faae6"
      },
      "source": [
        "train"
      ],
      "execution_count": null,
      "outputs": [
        {
          "output_type": "execute_result",
          "data": {
            "text/html": [
              "<div>\n",
              "<style scoped>\n",
              "    .dataframe tbody tr th:only-of-type {\n",
              "        vertical-align: middle;\n",
              "    }\n",
              "\n",
              "    .dataframe tbody tr th {\n",
              "        vertical-align: top;\n",
              "    }\n",
              "\n",
              "    .dataframe thead th {\n",
              "        text-align: right;\n",
              "    }\n",
              "</style>\n",
              "<table border=\"1\" class=\"dataframe\">\n",
              "  <thead>\n",
              "    <tr style=\"text-align: right;\">\n",
              "      <th></th>\n",
              "      <th>city_development_index</th>\n",
              "      <th>gender</th>\n",
              "      <th>relevent_experience</th>\n",
              "      <th>enrolled_university</th>\n",
              "      <th>education_level</th>\n",
              "      <th>major_discipline</th>\n",
              "      <th>experience</th>\n",
              "      <th>company_size</th>\n",
              "      <th>company_type</th>\n",
              "      <th>last_new_job</th>\n",
              "      <th>training_hours</th>\n",
              "      <th>target</th>\n",
              "    </tr>\n",
              "  </thead>\n",
              "  <tbody>\n",
              "    <tr>\n",
              "      <th>0</th>\n",
              "      <td>0.920</td>\n",
              "      <td>Male</td>\n",
              "      <td>Has relevent experience</td>\n",
              "      <td>no_enrollment</td>\n",
              "      <td>Graduate</td>\n",
              "      <td>STEM</td>\n",
              "      <td>21</td>\n",
              "      <td>4487.393419</td>\n",
              "      <td>Pvt Ltd</td>\n",
              "      <td>1</td>\n",
              "      <td>36</td>\n",
              "      <td>1.0</td>\n",
              "    </tr>\n",
              "    <tr>\n",
              "      <th>1</th>\n",
              "      <td>0.776</td>\n",
              "      <td>Male</td>\n",
              "      <td>No relevent experience</td>\n",
              "      <td>no_enrollment</td>\n",
              "      <td>Graduate</td>\n",
              "      <td>STEM</td>\n",
              "      <td>15</td>\n",
              "      <td>75.000000</td>\n",
              "      <td>Pvt Ltd</td>\n",
              "      <td>5</td>\n",
              "      <td>47</td>\n",
              "      <td>0.0</td>\n",
              "    </tr>\n",
              "    <tr>\n",
              "      <th>2</th>\n",
              "      <td>0.624</td>\n",
              "      <td>Male</td>\n",
              "      <td>No relevent experience</td>\n",
              "      <td>Full time course</td>\n",
              "      <td>Graduate</td>\n",
              "      <td>STEM</td>\n",
              "      <td>5</td>\n",
              "      <td>4487.393419</td>\n",
              "      <td>Pvt Ltd</td>\n",
              "      <td>0</td>\n",
              "      <td>83</td>\n",
              "      <td>0.0</td>\n",
              "    </tr>\n",
              "    <tr>\n",
              "      <th>3</th>\n",
              "      <td>0.789</td>\n",
              "      <td>Male</td>\n",
              "      <td>No relevent experience</td>\n",
              "      <td>no_enrollment</td>\n",
              "      <td>Graduate</td>\n",
              "      <td>Business Degree</td>\n",
              "      <td>0</td>\n",
              "      <td>4487.393419</td>\n",
              "      <td>Pvt Ltd</td>\n",
              "      <td>0</td>\n",
              "      <td>52</td>\n",
              "      <td>1.0</td>\n",
              "    </tr>\n",
              "    <tr>\n",
              "      <th>4</th>\n",
              "      <td>0.767</td>\n",
              "      <td>Male</td>\n",
              "      <td>Has relevent experience</td>\n",
              "      <td>no_enrollment</td>\n",
              "      <td>Masters</td>\n",
              "      <td>STEM</td>\n",
              "      <td>21</td>\n",
              "      <td>75.000000</td>\n",
              "      <td>Funded Startup</td>\n",
              "      <td>4</td>\n",
              "      <td>8</td>\n",
              "      <td>0.0</td>\n",
              "    </tr>\n",
              "    <tr>\n",
              "      <th>...</th>\n",
              "      <td>...</td>\n",
              "      <td>...</td>\n",
              "      <td>...</td>\n",
              "      <td>...</td>\n",
              "      <td>...</td>\n",
              "      <td>...</td>\n",
              "      <td>...</td>\n",
              "      <td>...</td>\n",
              "      <td>...</td>\n",
              "      <td>...</td>\n",
              "      <td>...</td>\n",
              "      <td>...</td>\n",
              "    </tr>\n",
              "    <tr>\n",
              "      <th>19153</th>\n",
              "      <td>0.878</td>\n",
              "      <td>Male</td>\n",
              "      <td>No relevent experience</td>\n",
              "      <td>no_enrollment</td>\n",
              "      <td>Graduate</td>\n",
              "      <td>Humanities</td>\n",
              "      <td>14</td>\n",
              "      <td>4487.393419</td>\n",
              "      <td>Pvt Ltd</td>\n",
              "      <td>1</td>\n",
              "      <td>42</td>\n",
              "      <td>1.0</td>\n",
              "    </tr>\n",
              "    <tr>\n",
              "      <th>19154</th>\n",
              "      <td>0.920</td>\n",
              "      <td>Male</td>\n",
              "      <td>Has relevent experience</td>\n",
              "      <td>no_enrollment</td>\n",
              "      <td>Graduate</td>\n",
              "      <td>STEM</td>\n",
              "      <td>14</td>\n",
              "      <td>4487.393419</td>\n",
              "      <td>Pvt Ltd</td>\n",
              "      <td>4</td>\n",
              "      <td>52</td>\n",
              "      <td>1.0</td>\n",
              "    </tr>\n",
              "    <tr>\n",
              "      <th>19155</th>\n",
              "      <td>0.920</td>\n",
              "      <td>Male</td>\n",
              "      <td>Has relevent experience</td>\n",
              "      <td>no_enrollment</td>\n",
              "      <td>Graduate</td>\n",
              "      <td>STEM</td>\n",
              "      <td>21</td>\n",
              "      <td>75.000000</td>\n",
              "      <td>Pvt Ltd</td>\n",
              "      <td>4</td>\n",
              "      <td>44</td>\n",
              "      <td>0.0</td>\n",
              "    </tr>\n",
              "    <tr>\n",
              "      <th>19156</th>\n",
              "      <td>0.802</td>\n",
              "      <td>Male</td>\n",
              "      <td>Has relevent experience</td>\n",
              "      <td>no_enrollment</td>\n",
              "      <td>High School</td>\n",
              "      <td>STEM</td>\n",
              "      <td>0</td>\n",
              "      <td>750.000000</td>\n",
              "      <td>Pvt Ltd</td>\n",
              "      <td>2</td>\n",
              "      <td>97</td>\n",
              "      <td>0.0</td>\n",
              "    </tr>\n",
              "    <tr>\n",
              "      <th>19157</th>\n",
              "      <td>0.855</td>\n",
              "      <td>Male</td>\n",
              "      <td>No relevent experience</td>\n",
              "      <td>no_enrollment</td>\n",
              "      <td>Primary School</td>\n",
              "      <td>STEM</td>\n",
              "      <td>2</td>\n",
              "      <td>4487.393419</td>\n",
              "      <td>Pvt Ltd</td>\n",
              "      <td>1</td>\n",
              "      <td>127</td>\n",
              "      <td>0.0</td>\n",
              "    </tr>\n",
              "  </tbody>\n",
              "</table>\n",
              "<p>19158 rows × 12 columns</p>\n",
              "</div>"
            ],
            "text/plain": [
              "       city_development_index gender  ... training_hours target\n",
              "0                       0.920   Male  ...             36    1.0\n",
              "1                       0.776   Male  ...             47    0.0\n",
              "2                       0.624   Male  ...             83    0.0\n",
              "3                       0.789   Male  ...             52    1.0\n",
              "4                       0.767   Male  ...              8    0.0\n",
              "...                       ...    ...  ...            ...    ...\n",
              "19153                   0.878   Male  ...             42    1.0\n",
              "19154                   0.920   Male  ...             52    1.0\n",
              "19155                   0.920   Male  ...             44    0.0\n",
              "19156                   0.802   Male  ...             97    0.0\n",
              "19157                   0.855   Male  ...            127    0.0\n",
              "\n",
              "[19158 rows x 12 columns]"
            ]
          },
          "metadata": {},
          "execution_count": 29
        }
      ]
    },
    {
      "cell_type": "code",
      "metadata": {
        "colab": {
          "base_uri": "https://localhost:8080/"
        },
        "id": "OTuzeMoyTC4s",
        "outputId": "8bc03cb9-3a93-48e3-ff0d-df1928954c2e"
      },
      "source": [
        "train.isnull().sum()"
      ],
      "execution_count": null,
      "outputs": [
        {
          "output_type": "execute_result",
          "data": {
            "text/plain": [
              "city_development_index    0\n",
              "gender                    0\n",
              "relevent_experience       0\n",
              "enrolled_university       0\n",
              "education_level           0\n",
              "major_discipline          0\n",
              "experience                0\n",
              "company_size              0\n",
              "company_type              0\n",
              "last_new_job              0\n",
              "training_hours            0\n",
              "target                    0\n",
              "dtype: int64"
            ]
          },
          "metadata": {},
          "execution_count": 30
        }
      ]
    },
    {
      "cell_type": "markdown",
      "metadata": {
        "id": "G1H138x2qX7V"
      },
      "source": [
        "### 정규화"
      ]
    },
    {
      "cell_type": "markdown",
      "metadata": {
        "id": "KQW_h-uXKgAO"
      },
      "source": [
        "* 신경망 모델에서는 입력데이터의 서로 다른 피처 값의 범위를 비슷한 크기로 맞춰 주는 것이 유리하기 때문에 정규화 진행"
      ]
    },
    {
      "cell_type": "code",
      "metadata": {
        "id": "qTzHEqhXqZZO"
      },
      "source": [
        "from sklearn.preprocessing import MinMaxScaler\n",
        "train[\"training_hours\"] = MinMaxScaler().fit_transform(np.array(train[\"training_hours\"]).reshape(-1,1))"
      ],
      "execution_count": null,
      "outputs": []
    },
    {
      "cell_type": "code",
      "metadata": {
        "colab": {
          "base_uri": "https://localhost:8080/",
          "height": 434
        },
        "id": "X0L31JqLqc2f",
        "outputId": "e3d3356c-622d-4cef-d5a5-f19ca178e873"
      },
      "source": [
        "train"
      ],
      "execution_count": null,
      "outputs": [
        {
          "output_type": "execute_result",
          "data": {
            "text/html": [
              "<div>\n",
              "<style scoped>\n",
              "    .dataframe tbody tr th:only-of-type {\n",
              "        vertical-align: middle;\n",
              "    }\n",
              "\n",
              "    .dataframe tbody tr th {\n",
              "        vertical-align: top;\n",
              "    }\n",
              "\n",
              "    .dataframe thead th {\n",
              "        text-align: right;\n",
              "    }\n",
              "</style>\n",
              "<table border=\"1\" class=\"dataframe\">\n",
              "  <thead>\n",
              "    <tr style=\"text-align: right;\">\n",
              "      <th></th>\n",
              "      <th>city_development_index</th>\n",
              "      <th>gender</th>\n",
              "      <th>relevent_experience</th>\n",
              "      <th>enrolled_university</th>\n",
              "      <th>education_level</th>\n",
              "      <th>major_discipline</th>\n",
              "      <th>experience</th>\n",
              "      <th>company_size</th>\n",
              "      <th>company_type</th>\n",
              "      <th>last_new_job</th>\n",
              "      <th>training_hours</th>\n",
              "      <th>target</th>\n",
              "    </tr>\n",
              "  </thead>\n",
              "  <tbody>\n",
              "    <tr>\n",
              "      <th>0</th>\n",
              "      <td>0.920</td>\n",
              "      <td>Male</td>\n",
              "      <td>Has relevent experience</td>\n",
              "      <td>no_enrollment</td>\n",
              "      <td>Graduate</td>\n",
              "      <td>STEM</td>\n",
              "      <td>21</td>\n",
              "      <td>4487.393419</td>\n",
              "      <td>Pvt Ltd</td>\n",
              "      <td>1</td>\n",
              "      <td>0.104478</td>\n",
              "      <td>1.0</td>\n",
              "    </tr>\n",
              "    <tr>\n",
              "      <th>1</th>\n",
              "      <td>0.776</td>\n",
              "      <td>Male</td>\n",
              "      <td>No relevent experience</td>\n",
              "      <td>no_enrollment</td>\n",
              "      <td>Graduate</td>\n",
              "      <td>STEM</td>\n",
              "      <td>15</td>\n",
              "      <td>75.000000</td>\n",
              "      <td>Pvt Ltd</td>\n",
              "      <td>5</td>\n",
              "      <td>0.137313</td>\n",
              "      <td>0.0</td>\n",
              "    </tr>\n",
              "    <tr>\n",
              "      <th>2</th>\n",
              "      <td>0.624</td>\n",
              "      <td>Male</td>\n",
              "      <td>No relevent experience</td>\n",
              "      <td>Full time course</td>\n",
              "      <td>Graduate</td>\n",
              "      <td>STEM</td>\n",
              "      <td>5</td>\n",
              "      <td>4487.393419</td>\n",
              "      <td>Pvt Ltd</td>\n",
              "      <td>0</td>\n",
              "      <td>0.244776</td>\n",
              "      <td>0.0</td>\n",
              "    </tr>\n",
              "    <tr>\n",
              "      <th>3</th>\n",
              "      <td>0.789</td>\n",
              "      <td>Male</td>\n",
              "      <td>No relevent experience</td>\n",
              "      <td>no_enrollment</td>\n",
              "      <td>Graduate</td>\n",
              "      <td>Business Degree</td>\n",
              "      <td>0</td>\n",
              "      <td>4487.393419</td>\n",
              "      <td>Pvt Ltd</td>\n",
              "      <td>0</td>\n",
              "      <td>0.152239</td>\n",
              "      <td>1.0</td>\n",
              "    </tr>\n",
              "    <tr>\n",
              "      <th>4</th>\n",
              "      <td>0.767</td>\n",
              "      <td>Male</td>\n",
              "      <td>Has relevent experience</td>\n",
              "      <td>no_enrollment</td>\n",
              "      <td>Masters</td>\n",
              "      <td>STEM</td>\n",
              "      <td>21</td>\n",
              "      <td>75.000000</td>\n",
              "      <td>Funded Startup</td>\n",
              "      <td>4</td>\n",
              "      <td>0.020896</td>\n",
              "      <td>0.0</td>\n",
              "    </tr>\n",
              "    <tr>\n",
              "      <th>...</th>\n",
              "      <td>...</td>\n",
              "      <td>...</td>\n",
              "      <td>...</td>\n",
              "      <td>...</td>\n",
              "      <td>...</td>\n",
              "      <td>...</td>\n",
              "      <td>...</td>\n",
              "      <td>...</td>\n",
              "      <td>...</td>\n",
              "      <td>...</td>\n",
              "      <td>...</td>\n",
              "      <td>...</td>\n",
              "    </tr>\n",
              "    <tr>\n",
              "      <th>19153</th>\n",
              "      <td>0.878</td>\n",
              "      <td>Male</td>\n",
              "      <td>No relevent experience</td>\n",
              "      <td>no_enrollment</td>\n",
              "      <td>Graduate</td>\n",
              "      <td>Humanities</td>\n",
              "      <td>14</td>\n",
              "      <td>4487.393419</td>\n",
              "      <td>Pvt Ltd</td>\n",
              "      <td>1</td>\n",
              "      <td>0.122388</td>\n",
              "      <td>1.0</td>\n",
              "    </tr>\n",
              "    <tr>\n",
              "      <th>19154</th>\n",
              "      <td>0.920</td>\n",
              "      <td>Male</td>\n",
              "      <td>Has relevent experience</td>\n",
              "      <td>no_enrollment</td>\n",
              "      <td>Graduate</td>\n",
              "      <td>STEM</td>\n",
              "      <td>14</td>\n",
              "      <td>4487.393419</td>\n",
              "      <td>Pvt Ltd</td>\n",
              "      <td>4</td>\n",
              "      <td>0.152239</td>\n",
              "      <td>1.0</td>\n",
              "    </tr>\n",
              "    <tr>\n",
              "      <th>19155</th>\n",
              "      <td>0.920</td>\n",
              "      <td>Male</td>\n",
              "      <td>Has relevent experience</td>\n",
              "      <td>no_enrollment</td>\n",
              "      <td>Graduate</td>\n",
              "      <td>STEM</td>\n",
              "      <td>21</td>\n",
              "      <td>75.000000</td>\n",
              "      <td>Pvt Ltd</td>\n",
              "      <td>4</td>\n",
              "      <td>0.128358</td>\n",
              "      <td>0.0</td>\n",
              "    </tr>\n",
              "    <tr>\n",
              "      <th>19156</th>\n",
              "      <td>0.802</td>\n",
              "      <td>Male</td>\n",
              "      <td>Has relevent experience</td>\n",
              "      <td>no_enrollment</td>\n",
              "      <td>High School</td>\n",
              "      <td>STEM</td>\n",
              "      <td>0</td>\n",
              "      <td>750.000000</td>\n",
              "      <td>Pvt Ltd</td>\n",
              "      <td>2</td>\n",
              "      <td>0.286567</td>\n",
              "      <td>0.0</td>\n",
              "    </tr>\n",
              "    <tr>\n",
              "      <th>19157</th>\n",
              "      <td>0.855</td>\n",
              "      <td>Male</td>\n",
              "      <td>No relevent experience</td>\n",
              "      <td>no_enrollment</td>\n",
              "      <td>Primary School</td>\n",
              "      <td>STEM</td>\n",
              "      <td>2</td>\n",
              "      <td>4487.393419</td>\n",
              "      <td>Pvt Ltd</td>\n",
              "      <td>1</td>\n",
              "      <td>0.376119</td>\n",
              "      <td>0.0</td>\n",
              "    </tr>\n",
              "  </tbody>\n",
              "</table>\n",
              "<p>19158 rows × 12 columns</p>\n",
              "</div>"
            ],
            "text/plain": [
              "       city_development_index gender  ... training_hours target\n",
              "0                       0.920   Male  ...       0.104478    1.0\n",
              "1                       0.776   Male  ...       0.137313    0.0\n",
              "2                       0.624   Male  ...       0.244776    0.0\n",
              "3                       0.789   Male  ...       0.152239    1.0\n",
              "4                       0.767   Male  ...       0.020896    0.0\n",
              "...                       ...    ...  ...            ...    ...\n",
              "19153                   0.878   Male  ...       0.122388    1.0\n",
              "19154                   0.920   Male  ...       0.152239    1.0\n",
              "19155                   0.920   Male  ...       0.128358    0.0\n",
              "19156                   0.802   Male  ...       0.286567    0.0\n",
              "19157                   0.855   Male  ...       0.376119    0.0\n",
              "\n",
              "[19158 rows x 12 columns]"
            ]
          },
          "metadata": {},
          "execution_count": 32
        }
      ]
    },
    {
      "cell_type": "markdown",
      "metadata": {
        "id": "MLHma5FrNNpu"
      },
      "source": [
        "### 인코딩"
      ]
    },
    {
      "cell_type": "markdown",
      "metadata": {
        "id": "iCGrKdjlK8t5"
      },
      "source": [
        "* 범주형 데이터는 원핫인코딩 진행"
      ]
    },
    {
      "cell_type": "code",
      "metadata": {
        "id": "nL99-PGbOIlU"
      },
      "source": [
        "from sklearn.preprocessing import LabelEncoder, StandardScaler"
      ],
      "execution_count": null,
      "outputs": []
    },
    {
      "cell_type": "code",
      "metadata": {
        "colab": {
          "base_uri": "https://localhost:8080/"
        },
        "id": "pN_QxS3YHJUO",
        "outputId": "3ca50689-d985-4352-b77b-fbb584a1a0c5"
      },
      "source": [
        "numerical_feats = train.dtypes[train.dtypes != \"object\"].index.tolist()\n",
        "numerical_feats.remove('target')\n",
        "print(\"Number of Numerical features: \", len(numerical_feats))\n",
        "\n",
        "categorical_feats = train.dtypes[train.dtypes == \"object\"].index.tolist()\n",
        "print(\"Number of Categorical features: \", len(categorical_feats))"
      ],
      "execution_count": null,
      "outputs": [
        {
          "output_type": "stream",
          "name": "stdout",
          "text": [
            "Number of Numerical features:  3\n",
            "Number of Categorical features:  8\n"
          ]
        }
      ]
    },
    {
      "cell_type": "code",
      "metadata": {
        "colab": {
          "base_uri": "https://localhost:8080/"
        },
        "id": "QxePjQ-KHJWr",
        "outputId": "024786e6-4105-489a-e568-35a574a160fb"
      },
      "source": [
        "numerical_feats"
      ],
      "execution_count": null,
      "outputs": [
        {
          "output_type": "execute_result",
          "data": {
            "text/plain": [
              "['city_development_index', 'company_size', 'training_hours']"
            ]
          },
          "metadata": {},
          "execution_count": 35
        }
      ]
    },
    {
      "cell_type": "code",
      "metadata": {
        "colab": {
          "base_uri": "https://localhost:8080/"
        },
        "id": "F9k0mgP7NrGP",
        "outputId": "3485586e-b065-4398-9cf8-abc4b6f55b5a"
      },
      "source": [
        "categorical_feats"
      ],
      "execution_count": null,
      "outputs": [
        {
          "output_type": "execute_result",
          "data": {
            "text/plain": [
              "['gender',\n",
              " 'relevent_experience',\n",
              " 'enrolled_university',\n",
              " 'education_level',\n",
              " 'major_discipline',\n",
              " 'experience',\n",
              " 'company_type',\n",
              " 'last_new_job']"
            ]
          },
          "metadata": {},
          "execution_count": 36
        }
      ]
    },
    {
      "cell_type": "code",
      "metadata": {
        "id": "ve5aQbZ8pYXW"
      },
      "source": [
        "train_one_hot = pd.get_dummies(train, columns = ['gender', 'relevent_experience', 'enrolled_university',\n",
        "                                                 'education_level', 'major_discipline', 'experience', 'company_type', 'last_new_job'])\n",
        "train.drop(['gender', 'relevent_experience', 'enrolled_university','education_level',\n",
        "          'major_discipline', 'experience', 'company_type', 'last_new_job', 'target'],axis=1,inplace=True)\n",
        "train = pd.concat([train ,train_one_hot],axis=1)"
      ],
      "execution_count": null,
      "outputs": []
    },
    {
      "cell_type": "code",
      "metadata": {
        "colab": {
          "base_uri": "https://localhost:8080/"
        },
        "id": "5zlIq77hqEML",
        "outputId": "99015ba1-c44f-44c0-8db7-71c3115125cf"
      },
      "source": [
        "train.dtypes"
      ],
      "execution_count": null,
      "outputs": [
        {
          "output_type": "execute_result",
          "data": {
            "text/plain": [
              "city_development_index                         float64\n",
              "company_size                                   float64\n",
              "training_hours                                 float64\n",
              "city_development_index                         float64\n",
              "company_size                                   float64\n",
              "training_hours                                 float64\n",
              "target                                         float64\n",
              "gender_Female                                    uint8\n",
              "gender_Male                                      uint8\n",
              "gender_Other                                     uint8\n",
              "relevent_experience_Has relevent experience      uint8\n",
              "relevent_experience_No relevent experience       uint8\n",
              "enrolled_university_Full time course             uint8\n",
              "enrolled_university_Part time course             uint8\n",
              "enrolled_university_no_enrollment                uint8\n",
              "education_level_Graduate                         uint8\n",
              "education_level_High School                      uint8\n",
              "education_level_Masters                          uint8\n",
              "education_level_Phd                              uint8\n",
              "education_level_Primary School                   uint8\n",
              "major_discipline_Arts                            uint8\n",
              "major_discipline_Business Degree                 uint8\n",
              "major_discipline_Humanities                      uint8\n",
              "major_discipline_No Major                        uint8\n",
              "major_discipline_Other                           uint8\n",
              "major_discipline_STEM                            uint8\n",
              "experience_0                                     uint8\n",
              "experience_21                                    uint8\n",
              "experience_1                                     uint8\n",
              "experience_10                                    uint8\n",
              "experience_11                                    uint8\n",
              "experience_12                                    uint8\n",
              "experience_13                                    uint8\n",
              "experience_14                                    uint8\n",
              "experience_15                                    uint8\n",
              "experience_16                                    uint8\n",
              "experience_17                                    uint8\n",
              "experience_18                                    uint8\n",
              "experience_19                                    uint8\n",
              "experience_2                                     uint8\n",
              "experience_20                                    uint8\n",
              "experience_3                                     uint8\n",
              "experience_4                                     uint8\n",
              "experience_5                                     uint8\n",
              "experience_6                                     uint8\n",
              "experience_7                                     uint8\n",
              "experience_8                                     uint8\n",
              "experience_9                                     uint8\n",
              "company_type_Early Stage Startup                 uint8\n",
              "company_type_Funded Startup                      uint8\n",
              "company_type_NGO                                 uint8\n",
              "company_type_Other                               uint8\n",
              "company_type_Public Sector                       uint8\n",
              "company_type_Pvt Ltd                             uint8\n",
              "last_new_job_0                                   uint8\n",
              "last_new_job_5                                   uint8\n",
              "last_new_job_1                                   uint8\n",
              "last_new_job_2                                   uint8\n",
              "last_new_job_3                                   uint8\n",
              "last_new_job_4                                   uint8\n",
              "dtype: object"
            ]
          },
          "metadata": {},
          "execution_count": 38
        }
      ]
    },
    {
      "cell_type": "markdown",
      "metadata": {
        "id": "V_mPnD_vS5MR"
      },
      "source": [
        "### 불균형 처리"
      ]
    },
    {
      "cell_type": "markdown",
      "metadata": {
        "id": "H6kI7hY0LGn-"
      },
      "source": [
        "* Oversampling 방법 중 Smote , adasyn 두 가지 불균형 방법 시도"
      ]
    },
    {
      "cell_type": "code",
      "metadata": {
        "id": "4eNW6DaQqqYQ"
      },
      "source": [
        "X = train.drop(['target'], axis=1)\n",
        "y = train['target']"
      ],
      "execution_count": null,
      "outputs": []
    },
    {
      "cell_type": "code",
      "metadata": {
        "id": "LF5BVodssc1G"
      },
      "source": [
        "from sklearn.model_selection import train_test_split\n",
        "X_train, X_val, y_train, y_val = train_test_split(X, y, test_size=0.2, random_state=42)"
      ],
      "execution_count": null,
      "outputs": []
    },
    {
      "cell_type": "code",
      "metadata": {
        "colab": {
          "base_uri": "https://localhost:8080/"
        },
        "id": "5vuN0No7u5wd",
        "outputId": "55bf01ab-a06b-4d30-eff9-6614357ab7b5"
      },
      "source": [
        "from imblearn.over_sampling import SMOTE\n",
        "from collections import Counter\n",
        "\n",
        "counter = Counter(y_train)\n",
        "print('Before',counter)\n",
        "\n",
        "smt = SMOTE()\n",
        "X_train_sm, y_train_sm = smt.fit_resample(X_train, y_train)\n",
        "X_val_sm, y_val_sm = smt.fit_resample(X_val, y_val)\n",
        "\n",
        "counter = Counter(y_train_sm)\n",
        "print('After',counter)"
      ],
      "execution_count": null,
      "outputs": [
        {
          "output_type": "stream",
          "name": "stderr",
          "text": [
            "/usr/local/lib/python3.7/dist-packages/sklearn/externals/six.py:31: FutureWarning: The module is deprecated in version 0.21 and will be removed in version 0.23 since we've dropped support for Python 2.7. Please rely on the official version of six (https://pypi.org/project/six/).\n",
            "  \"(https://pypi.org/project/six/).\", FutureWarning)\n",
            "/usr/local/lib/python3.7/dist-packages/sklearn/utils/deprecation.py:144: FutureWarning: The sklearn.neighbors.base module is  deprecated in version 0.22 and will be removed in version 0.24. The corresponding classes / functions should instead be imported from sklearn.neighbors. Anything that cannot be imported from sklearn.neighbors is now part of the private API.\n",
            "  warnings.warn(message, FutureWarning)\n",
            "/usr/local/lib/python3.7/dist-packages/sklearn/utils/deprecation.py:87: FutureWarning: Function safe_indexing is deprecated; safe_indexing is deprecated in version 0.22 and will be removed in version 0.24.\n",
            "  warnings.warn(msg, category=FutureWarning)\n"
          ]
        },
        {
          "output_type": "stream",
          "name": "stdout",
          "text": [
            "Before Counter({0.0: 11501, 1.0: 3825})\n",
            "After Counter({1.0: 11501, 0.0: 11501})\n"
          ]
        },
        {
          "output_type": "stream",
          "name": "stderr",
          "text": [
            "/usr/local/lib/python3.7/dist-packages/sklearn/utils/deprecation.py:87: FutureWarning: Function safe_indexing is deprecated; safe_indexing is deprecated in version 0.22 and will be removed in version 0.24.\n",
            "  warnings.warn(msg, category=FutureWarning)\n"
          ]
        }
      ]
    },
    {
      "cell_type": "code",
      "metadata": {
        "colab": {
          "base_uri": "https://localhost:8080/"
        },
        "id": "k-60AHKcu_r9",
        "outputId": "6d50dc4b-bc34-46e5-fabc-b5a528d22339"
      },
      "source": [
        "from imblearn.over_sampling import ADASYN\n",
        "\n",
        "counter = Counter(y_train)\n",
        "print('Before',counter)\n",
        "\n",
        "ada = ADASYN(random_state=130)\n",
        "X_train_ada, y_train_ada = ada.fit_resample(X_train, y_train)\n",
        "X_val_ada, y_val_ada = ada.fit_resample(X_val, y_val)\n",
        "\n",
        "counter = Counter(y_train_ada)\n",
        "print('After',counter)"
      ],
      "execution_count": null,
      "outputs": [
        {
          "output_type": "stream",
          "name": "stderr",
          "text": [
            "/usr/local/lib/python3.7/dist-packages/sklearn/utils/deprecation.py:87: FutureWarning: Function safe_indexing is deprecated; safe_indexing is deprecated in version 0.22 and will be removed in version 0.24.\n",
            "  warnings.warn(msg, category=FutureWarning)\n"
          ]
        },
        {
          "output_type": "stream",
          "name": "stdout",
          "text": [
            "Before Counter({0.0: 11501, 1.0: 3825})\n"
          ]
        },
        {
          "output_type": "stream",
          "name": "stderr",
          "text": [
            "/usr/local/lib/python3.7/dist-packages/sklearn/utils/deprecation.py:87: FutureWarning: Function safe_indexing is deprecated; safe_indexing is deprecated in version 0.22 and will be removed in version 0.24.\n",
            "  warnings.warn(msg, category=FutureWarning)\n"
          ]
        },
        {
          "output_type": "stream",
          "name": "stdout",
          "text": [
            "After Counter({1.0: 11644, 0.0: 11501})\n"
          ]
        }
      ]
    },
    {
      "cell_type": "markdown",
      "metadata": {
        "id": "u-9GZspJvpMw"
      },
      "source": [
        "## 모델링"
      ]
    },
    {
      "cell_type": "code",
      "metadata": {
        "id": "R1k3O2o2KTXS"
      },
      "source": [
        "from keras.models import Sequential\n",
        "from keras.layers import Dense\n",
        "import keras"
      ],
      "execution_count": null,
      "outputs": []
    },
    {
      "cell_type": "markdown",
      "metadata": {
        "id": "yCKU1tiWvz8n"
      },
      "source": [
        "### 불균형 처리 전 모델링"
      ]
    },
    {
      "cell_type": "markdown",
      "metadata": {
        "id": "VgVUkfZRLyPl"
      },
      "source": [
        "* 임의로 3개의 은닉층을 쌓고 각 유닛은 보편적으로 사용한다는 128, 64, 32, 와 같이 구성했고, 출력증이에는 이중분류이기 때문에 2개의 유닛과 시그모이드 활성화 함수를 적용\n",
        "* 모델이 훈련하는데에 필요한 옵티마이저와 손실함수를 compli함수에 지정하고 정확도를 보기 위해 metrics옵션에 평가지표 정확도를 추가"
      ]
    },
    {
      "cell_type": "code",
      "metadata": {
        "id": "qJCH45g_UFEn"
      },
      "source": [
        "model1 = keras.Sequential([keras.layers.Flatten(input_shape =(59,)),\n",
        "                keras.layers.Dense(128,activation = 'sigmoid'),    \n",
        "                keras.layers.Dense(64,activation = 'sigmoid'),    \n",
        "                keras.layers.Dense(32,activation = 'sigmoid'),   \n",
        "                keras.layers.Dense(2,activation = 'sigmoid')])\n",
        "model1.compile(optimizer = 'sgd',loss='sparse_categorical_crossentropy',metrics =['accuracy'])"
      ],
      "execution_count": null,
      "outputs": []
    },
    {
      "cell_type": "code",
      "metadata": {
        "colab": {
          "base_uri": "https://localhost:8080/"
        },
        "id": "4opEfwbzUFHK",
        "outputId": "55c36156-4c1b-4544-e11e-7cade706cb26"
      },
      "source": [
        "model1.summary()"
      ],
      "execution_count": null,
      "outputs": [
        {
          "output_type": "stream",
          "name": "stdout",
          "text": [
            "Model: \"sequential\"\n",
            "_________________________________________________________________\n",
            " Layer (type)                Output Shape              Param #   \n",
            "=================================================================\n",
            " flatten (Flatten)           (None, 59)                0         \n",
            "                                                                 \n",
            " dense (Dense)               (None, 128)               7680      \n",
            "                                                                 \n",
            " dense_1 (Dense)             (None, 64)                8256      \n",
            "                                                                 \n",
            " dense_2 (Dense)             (None, 32)                2080      \n",
            "                                                                 \n",
            " dense_3 (Dense)             (None, 2)                 66        \n",
            "                                                                 \n",
            "=================================================================\n",
            "Total params: 18,082\n",
            "Trainable params: 18,082\n",
            "Non-trainable params: 0\n",
            "_________________________________________________________________\n"
          ]
        }
      ]
    },
    {
      "cell_type": "markdown",
      "metadata": {
        "id": "rn3ZXyI7NJEC"
      },
      "source": [
        "* 신경망 모델 구성한 결과"
      ]
    },
    {
      "cell_type": "markdown",
      "metadata": {
        "id": "9EfvJT92NdUd"
      },
      "source": [
        "epochs 200, batch_size 30, steps_per_epoch 30으로 설정하고 모델 학습"
      ]
    },
    {
      "cell_type": "code",
      "metadata": {
        "colab": {
          "base_uri": "https://localhost:8080/"
        },
        "id": "4L_u76_vUFKq",
        "outputId": "b7179fd7-469a-4750-b1df-e3b1460b288b"
      },
      "source": [
        "history1 = model1.fit(X_train, y_train,epochs =200,batch_size=30,steps_per_epoch=30)"
      ],
      "execution_count": null,
      "outputs": [
        {
          "output_type": "stream",
          "name": "stdout",
          "text": [
            "Epoch 1/200\n",
            "30/30 [==============================] - 0s 2ms/step - loss: 0.5903 - accuracy: 0.7233\n",
            "Epoch 2/200\n",
            "30/30 [==============================] - 0s 1ms/step - loss: 0.5671 - accuracy: 0.7467\n",
            "Epoch 3/200\n",
            "30/30 [==============================] - 0s 2ms/step - loss: 0.5858 - accuracy: 0.7278\n",
            "Epoch 4/200\n",
            "30/30 [==============================] - 0s 2ms/step - loss: 0.5476 - accuracy: 0.7644\n",
            "Epoch 5/200\n",
            "30/30 [==============================] - 0s 2ms/step - loss: 0.5752 - accuracy: 0.7389\n",
            "Epoch 6/200\n",
            "30/30 [==============================] - 0s 1ms/step - loss: 0.5609 - accuracy: 0.7522\n",
            "Epoch 7/200\n",
            "30/30 [==============================] - 0s 2ms/step - loss: 0.5610 - accuracy: 0.7522\n",
            "Epoch 8/200\n",
            "30/30 [==============================] - 0s 2ms/step - loss: 0.5469 - accuracy: 0.7644\n",
            "Epoch 9/200\n",
            "30/30 [==============================] - 0s 2ms/step - loss: 0.5491 - accuracy: 0.7622\n",
            "Epoch 10/200\n",
            "30/30 [==============================] - 0s 2ms/step - loss: 0.5674 - accuracy: 0.7467\n",
            "Epoch 11/200\n",
            "30/30 [==============================] - 0s 2ms/step - loss: 0.5394 - accuracy: 0.7711\n",
            "Epoch 12/200\n",
            "30/30 [==============================] - 0s 2ms/step - loss: 0.5573 - accuracy: 0.7556\n",
            "Epoch 13/200\n",
            "30/30 [==============================] - 0s 2ms/step - loss: 0.5637 - accuracy: 0.7489\n",
            "Epoch 14/200\n",
            "30/30 [==============================] - 0s 2ms/step - loss: 0.5730 - accuracy: 0.7411\n",
            "Epoch 15/200\n",
            "30/30 [==============================] - 0s 2ms/step - loss: 0.5716 - accuracy: 0.7422\n",
            "Epoch 16/200\n",
            "30/30 [==============================] - 0s 1ms/step - loss: 0.5360 - accuracy: 0.7744\n",
            "Epoch 17/200\n",
            "30/30 [==============================] - 0s 2ms/step - loss: 0.5699 - accuracy: 0.7444\n",
            "Epoch 18/200\n",
            "30/30 [==============================] - 0s 1ms/step - loss: 0.5418 - accuracy: 0.7690\n",
            "Epoch 19/200\n",
            "30/30 [==============================] - 0s 2ms/step - loss: 0.5620 - accuracy: 0.7511\n",
            "Epoch 20/200\n",
            "30/30 [==============================] - 0s 2ms/step - loss: 0.5764 - accuracy: 0.7378\n",
            "Epoch 21/200\n",
            "30/30 [==============================] - 0s 3ms/step - loss: 0.5493 - accuracy: 0.7633\n",
            "Epoch 22/200\n",
            "30/30 [==============================] - 0s 2ms/step - loss: 0.5709 - accuracy: 0.7433\n",
            "Epoch 23/200\n",
            "30/30 [==============================] - 0s 2ms/step - loss: 0.5582 - accuracy: 0.7544\n",
            "Epoch 24/200\n",
            "30/30 [==============================] - 0s 2ms/step - loss: 0.5836 - accuracy: 0.7311\n",
            "Epoch 25/200\n",
            "30/30 [==============================] - 0s 2ms/step - loss: 0.5476 - accuracy: 0.7644\n",
            "Epoch 26/200\n",
            "30/30 [==============================] - 0s 2ms/step - loss: 0.5682 - accuracy: 0.7456\n",
            "Epoch 27/200\n",
            "30/30 [==============================] - 0s 2ms/step - loss: 0.5659 - accuracy: 0.7478\n",
            "Epoch 28/200\n",
            "30/30 [==============================] - 0s 2ms/step - loss: 0.5596 - accuracy: 0.7533\n",
            "Epoch 29/200\n",
            "30/30 [==============================] - 0s 2ms/step - loss: 0.5590 - accuracy: 0.7544\n",
            "Epoch 30/200\n",
            "30/30 [==============================] - 0s 2ms/step - loss: 0.5534 - accuracy: 0.7589\n",
            "Epoch 31/200\n",
            "30/30 [==============================] - 0s 2ms/step - loss: 0.5697 - accuracy: 0.7444\n",
            "Epoch 32/200\n",
            "30/30 [==============================] - 0s 2ms/step - loss: 0.5821 - accuracy: 0.7322\n",
            "Epoch 33/200\n",
            "30/30 [==============================] - 0s 1ms/step - loss: 0.5671 - accuracy: 0.7467\n",
            "Epoch 34/200\n",
            "30/30 [==============================] - 0s 1ms/step - loss: 0.5536 - accuracy: 0.7589\n",
            "Epoch 35/200\n",
            "30/30 [==============================] - 0s 1ms/step - loss: 0.5748 - accuracy: 0.7400\n",
            "Epoch 36/200\n",
            "30/30 [==============================] - 0s 1ms/step - loss: 0.5800 - accuracy: 0.7344\n",
            "Epoch 37/200\n",
            "30/30 [==============================] - 0s 2ms/step - loss: 0.5600 - accuracy: 0.7533\n",
            "Epoch 38/200\n",
            "30/30 [==============================] - 0s 2ms/step - loss: 0.5719 - accuracy: 0.7422\n",
            "Epoch 39/200\n",
            "30/30 [==============================] - 0s 2ms/step - loss: 0.5437 - accuracy: 0.7667\n",
            "Epoch 40/200\n",
            "30/30 [==============================] - 0s 2ms/step - loss: 0.5548 - accuracy: 0.7578\n",
            "Epoch 41/200\n",
            "30/30 [==============================] - 0s 2ms/step - loss: 0.5443 - accuracy: 0.7667\n",
            "Epoch 42/200\n",
            "30/30 [==============================] - 0s 2ms/step - loss: 0.5563 - accuracy: 0.7567\n",
            "Epoch 43/200\n",
            "30/30 [==============================] - 0s 2ms/step - loss: 0.5600 - accuracy: 0.7533\n",
            "Epoch 44/200\n",
            "30/30 [==============================] - 0s 2ms/step - loss: 0.5701 - accuracy: 0.7444\n",
            "Epoch 45/200\n",
            "30/30 [==============================] - 0s 1ms/step - loss: 0.5737 - accuracy: 0.7411\n",
            "Epoch 46/200\n",
            "30/30 [==============================] - 0s 2ms/step - loss: 0.5726 - accuracy: 0.7411\n",
            "Epoch 47/200\n",
            "30/30 [==============================] - 0s 2ms/step - loss: 0.5704 - accuracy: 0.7433\n",
            "Epoch 48/200\n",
            "30/30 [==============================] - 0s 1ms/step - loss: 0.5463 - accuracy: 0.7656\n",
            "Epoch 49/200\n",
            "30/30 [==============================] - 0s 2ms/step - loss: 0.5645 - accuracy: 0.7489\n",
            "Epoch 50/200\n",
            "30/30 [==============================] - 0s 2ms/step - loss: 0.5657 - accuracy: 0.7478\n",
            "Epoch 51/200\n",
            "30/30 [==============================] - 0s 2ms/step - loss: 0.5613 - accuracy: 0.7522\n",
            "Epoch 52/200\n",
            "30/30 [==============================] - 0s 1ms/step - loss: 0.5394 - accuracy: 0.7712\n",
            "Epoch 53/200\n",
            "30/30 [==============================] - 0s 2ms/step - loss: 0.5543 - accuracy: 0.7589\n",
            "Epoch 54/200\n",
            "30/30 [==============================] - 0s 1ms/step - loss: 0.5597 - accuracy: 0.7533\n",
            "Epoch 55/200\n",
            "30/30 [==============================] - 0s 1ms/step - loss: 0.5798 - accuracy: 0.7344\n",
            "Epoch 56/200\n",
            "30/30 [==============================] - 0s 1ms/step - loss: 0.5498 - accuracy: 0.7622\n",
            "Epoch 57/200\n",
            "30/30 [==============================] - 0s 2ms/step - loss: 0.5519 - accuracy: 0.7600\n",
            "Epoch 58/200\n",
            "30/30 [==============================] - 0s 2ms/step - loss: 0.5543 - accuracy: 0.7578\n",
            "Epoch 59/200\n",
            "30/30 [==============================] - 0s 2ms/step - loss: 0.5571 - accuracy: 0.7556\n",
            "Epoch 60/200\n",
            "30/30 [==============================] - 0s 2ms/step - loss: 0.5561 - accuracy: 0.7567\n",
            "Epoch 61/200\n",
            "30/30 [==============================] - 0s 2ms/step - loss: 0.5842 - accuracy: 0.7311\n",
            "Epoch 62/200\n",
            "30/30 [==============================] - 0s 2ms/step - loss: 0.5602 - accuracy: 0.7533\n",
            "Epoch 63/200\n",
            "30/30 [==============================] - 0s 2ms/step - loss: 0.5778 - accuracy: 0.7367\n",
            "Epoch 64/200\n",
            "30/30 [==============================] - 0s 2ms/step - loss: 0.5655 - accuracy: 0.7478\n",
            "Epoch 65/200\n",
            "30/30 [==============================] - 0s 2ms/step - loss: 0.5618 - accuracy: 0.7511\n",
            "Epoch 66/200\n",
            "30/30 [==============================] - 0s 2ms/step - loss: 0.5727 - accuracy: 0.7411\n",
            "Epoch 67/200\n",
            "30/30 [==============================] - 0s 1ms/step - loss: 0.5653 - accuracy: 0.7478\n",
            "Epoch 68/200\n",
            "30/30 [==============================] - 0s 2ms/step - loss: 0.5670 - accuracy: 0.7467\n",
            "Epoch 69/200\n",
            "30/30 [==============================] - 0s 2ms/step - loss: 0.5663 - accuracy: 0.7478\n",
            "Epoch 70/200\n",
            "30/30 [==============================] - 0s 2ms/step - loss: 0.5686 - accuracy: 0.7456\n",
            "Epoch 71/200\n",
            "30/30 [==============================] - 0s 2ms/step - loss: 0.5605 - accuracy: 0.7522\n",
            "Epoch 72/200\n",
            "30/30 [==============================] - 0s 2ms/step - loss: 0.5634 - accuracy: 0.7500\n",
            "Epoch 73/200\n",
            "30/30 [==============================] - 0s 1ms/step - loss: 0.5702 - accuracy: 0.7433\n",
            "Epoch 74/200\n",
            "30/30 [==============================] - 0s 2ms/step - loss: 0.5575 - accuracy: 0.7556\n",
            "Epoch 75/200\n",
            "30/30 [==============================] - 0s 2ms/step - loss: 0.5612 - accuracy: 0.7522\n",
            "Epoch 76/200\n",
            "30/30 [==============================] - 0s 2ms/step - loss: 0.5508 - accuracy: 0.7611\n",
            "Epoch 77/200\n",
            "30/30 [==============================] - 0s 2ms/step - loss: 0.5698 - accuracy: 0.7444\n",
            "Epoch 78/200\n",
            "30/30 [==============================] - 0s 2ms/step - loss: 0.5459 - accuracy: 0.7656\n",
            "Epoch 79/200\n",
            "30/30 [==============================] - 0s 2ms/step - loss: 0.5811 - accuracy: 0.7333\n",
            "Epoch 80/200\n",
            "30/30 [==============================] - 0s 2ms/step - loss: 0.5644 - accuracy: 0.7489\n",
            "Epoch 81/200\n",
            "30/30 [==============================] - 0s 2ms/step - loss: 0.5305 - accuracy: 0.7789\n",
            "Epoch 82/200\n",
            "30/30 [==============================] - 0s 2ms/step - loss: 0.5938 - accuracy: 0.7233\n",
            "Epoch 83/200\n",
            "30/30 [==============================] - 0s 2ms/step - loss: 0.5550 - accuracy: 0.7578\n",
            "Epoch 84/200\n",
            "30/30 [==============================] - 0s 2ms/step - loss: 0.5821 - accuracy: 0.7333\n",
            "Epoch 85/200\n",
            "30/30 [==============================] - 0s 2ms/step - loss: 0.5466 - accuracy: 0.7656\n",
            "Epoch 86/200\n",
            "30/30 [==============================] - 0s 2ms/step - loss: 0.5874 - accuracy: 0.7288\n",
            "Epoch 87/200\n",
            "30/30 [==============================] - 0s 2ms/step - loss: 0.5815 - accuracy: 0.7333\n",
            "Epoch 88/200\n",
            "30/30 [==============================] - 0s 2ms/step - loss: 0.5788 - accuracy: 0.7356\n",
            "Epoch 89/200\n",
            "30/30 [==============================] - 0s 2ms/step - loss: 0.5923 - accuracy: 0.7222\n",
            "Epoch 90/200\n",
            "30/30 [==============================] - 0s 1ms/step - loss: 0.5519 - accuracy: 0.7611\n",
            "Epoch 91/200\n",
            "30/30 [==============================] - 0s 1ms/step - loss: 0.5743 - accuracy: 0.7400\n",
            "Epoch 92/200\n",
            "30/30 [==============================] - 0s 2ms/step - loss: 0.5695 - accuracy: 0.7444\n",
            "Epoch 93/200\n",
            "30/30 [==============================] - 0s 1ms/step - loss: 0.5807 - accuracy: 0.7333\n",
            "Epoch 94/200\n",
            "30/30 [==============================] - 0s 2ms/step - loss: 0.5584 - accuracy: 0.7544\n",
            "Epoch 95/200\n",
            "30/30 [==============================] - 0s 1ms/step - loss: 0.5598 - accuracy: 0.7533\n",
            "Epoch 96/200\n",
            "30/30 [==============================] - 0s 2ms/step - loss: 0.5475 - accuracy: 0.7644\n",
            "Epoch 97/200\n",
            "30/30 [==============================] - 0s 1ms/step - loss: 0.5201 - accuracy: 0.7867\n",
            "Epoch 98/200\n",
            "30/30 [==============================] - 0s 2ms/step - loss: 0.5782 - accuracy: 0.7378\n",
            "Epoch 99/200\n",
            "30/30 [==============================] - 0s 2ms/step - loss: 0.5343 - accuracy: 0.7756\n",
            "Epoch 100/200\n",
            "30/30 [==============================] - 0s 1ms/step - loss: 0.5393 - accuracy: 0.7711\n",
            "Epoch 101/200\n",
            "30/30 [==============================] - 0s 3ms/step - loss: 0.5550 - accuracy: 0.7578\n",
            "Epoch 102/200\n",
            "30/30 [==============================] - 0s 2ms/step - loss: 0.5607 - accuracy: 0.7522\n",
            "Epoch 103/200\n",
            "30/30 [==============================] - 0s 2ms/step - loss: 0.5550 - accuracy: 0.7578\n",
            "Epoch 104/200\n",
            "30/30 [==============================] - 0s 2ms/step - loss: 0.5768 - accuracy: 0.7378\n",
            "Epoch 105/200\n",
            "30/30 [==============================] - 0s 2ms/step - loss: 0.5307 - accuracy: 0.7789\n",
            "Epoch 106/200\n",
            "30/30 [==============================] - 0s 2ms/step - loss: 0.5824 - accuracy: 0.7333\n",
            "Epoch 107/200\n",
            "30/30 [==============================] - 0s 2ms/step - loss: 0.5626 - accuracy: 0.7500\n",
            "Epoch 108/200\n",
            "30/30 [==============================] - 0s 2ms/step - loss: 0.5753 - accuracy: 0.7389\n",
            "Epoch 109/200\n",
            "30/30 [==============================] - 0s 2ms/step - loss: 0.5763 - accuracy: 0.7378\n",
            "Epoch 110/200\n",
            "30/30 [==============================] - 0s 2ms/step - loss: 0.5279 - accuracy: 0.7800\n",
            "Epoch 111/200\n",
            "30/30 [==============================] - 0s 2ms/step - loss: 0.5869 - accuracy: 0.7300\n",
            "Epoch 112/200\n",
            "30/30 [==============================] - 0s 2ms/step - loss: 0.5664 - accuracy: 0.7467\n",
            "Epoch 113/200\n",
            "30/30 [==============================] - 0s 2ms/step - loss: 0.5685 - accuracy: 0.7456\n",
            "Epoch 114/200\n",
            "30/30 [==============================] - 0s 1ms/step - loss: 0.5612 - accuracy: 0.7522\n",
            "Epoch 115/200\n",
            "30/30 [==============================] - 0s 2ms/step - loss: 0.5365 - accuracy: 0.7733\n",
            "Epoch 116/200\n",
            "30/30 [==============================] - 0s 2ms/step - loss: 0.5493 - accuracy: 0.7622\n",
            "Epoch 117/200\n",
            "30/30 [==============================] - 0s 2ms/step - loss: 0.5599 - accuracy: 0.7533\n",
            "Epoch 118/200\n",
            "30/30 [==============================] - 0s 2ms/step - loss: 0.5732 - accuracy: 0.7411\n",
            "Epoch 119/200\n",
            "30/30 [==============================] - 0s 1ms/step - loss: 0.5840 - accuracy: 0.7300\n",
            "Epoch 120/200\n",
            "30/30 [==============================] - 0s 2ms/step - loss: 0.5523 - accuracy: 0.7612\n",
            "Epoch 121/200\n",
            "30/30 [==============================] - 0s 1ms/step - loss: 0.5647 - accuracy: 0.7489\n",
            "Epoch 122/200\n",
            "30/30 [==============================] - 0s 2ms/step - loss: 0.5671 - accuracy: 0.7467\n",
            "Epoch 123/200\n",
            "30/30 [==============================] - 0s 1ms/step - loss: 0.5665 - accuracy: 0.7467\n",
            "Epoch 124/200\n",
            "30/30 [==============================] - 0s 1ms/step - loss: 0.5798 - accuracy: 0.7344\n",
            "Epoch 125/200\n",
            "30/30 [==============================] - 0s 2ms/step - loss: 0.5647 - accuracy: 0.7489\n",
            "Epoch 126/200\n",
            "30/30 [==============================] - 0s 2ms/step - loss: 0.5663 - accuracy: 0.7478\n",
            "Epoch 127/200\n",
            "30/30 [==============================] - 0s 2ms/step - loss: 0.5791 - accuracy: 0.7356\n",
            "Epoch 128/200\n",
            "30/30 [==============================] - 0s 1ms/step - loss: 0.5494 - accuracy: 0.7622\n",
            "Epoch 129/200\n",
            "30/30 [==============================] - 0s 1ms/step - loss: 0.5298 - accuracy: 0.7789\n",
            "Epoch 130/200\n",
            "30/30 [==============================] - 0s 2ms/step - loss: 0.5440 - accuracy: 0.7667\n",
            "Epoch 131/200\n",
            "30/30 [==============================] - 0s 1ms/step - loss: 0.5746 - accuracy: 0.7400\n",
            "Epoch 132/200\n",
            "30/30 [==============================] - 0s 2ms/step - loss: 0.5931 - accuracy: 0.7222\n",
            "Epoch 133/200\n",
            "30/30 [==============================] - 0s 2ms/step - loss: 0.5724 - accuracy: 0.7422\n",
            "Epoch 134/200\n",
            "30/30 [==============================] - 0s 2ms/step - loss: 0.5695 - accuracy: 0.7444\n",
            "Epoch 135/200\n",
            "30/30 [==============================] - 0s 2ms/step - loss: 0.5599 - accuracy: 0.7533\n",
            "Epoch 136/200\n",
            "30/30 [==============================] - 0s 1ms/step - loss: 0.5326 - accuracy: 0.7767\n",
            "Epoch 137/200\n",
            "30/30 [==============================] - 0s 2ms/step - loss: 0.5652 - accuracy: 0.7489\n",
            "Epoch 138/200\n",
            "30/30 [==============================] - 0s 2ms/step - loss: 0.5788 - accuracy: 0.7356\n",
            "Epoch 139/200\n",
            "30/30 [==============================] - 0s 2ms/step - loss: 0.5633 - accuracy: 0.7500\n",
            "Epoch 140/200\n",
            "30/30 [==============================] - 0s 2ms/step - loss: 0.5535 - accuracy: 0.7589\n",
            "Epoch 141/200\n",
            "30/30 [==============================] - 0s 2ms/step - loss: 0.5524 - accuracy: 0.7600\n",
            "Epoch 142/200\n",
            "30/30 [==============================] - 0s 1ms/step - loss: 0.5666 - accuracy: 0.7478\n",
            "Epoch 143/200\n",
            "30/30 [==============================] - 0s 1ms/step - loss: 0.5136 - accuracy: 0.7922\n",
            "Epoch 144/200\n",
            "30/30 [==============================] - 0s 1ms/step - loss: 0.5457 - accuracy: 0.7656\n",
            "Epoch 145/200\n",
            "30/30 [==============================] - 0s 2ms/step - loss: 0.5832 - accuracy: 0.7333\n",
            "Epoch 146/200\n",
            "30/30 [==============================] - 0s 2ms/step - loss: 0.5653 - accuracy: 0.7478\n",
            "Epoch 147/200\n",
            "30/30 [==============================] - 0s 2ms/step - loss: 0.5945 - accuracy: 0.7200\n",
            "Epoch 148/200\n",
            "30/30 [==============================] - 0s 2ms/step - loss: 0.5460 - accuracy: 0.7667\n",
            "Epoch 149/200\n",
            "30/30 [==============================] - 0s 2ms/step - loss: 0.5429 - accuracy: 0.7678\n",
            "Epoch 150/200\n",
            "30/30 [==============================] - 0s 2ms/step - loss: 0.5891 - accuracy: 0.7267\n",
            "Epoch 151/200\n",
            "30/30 [==============================] - 0s 2ms/step - loss: 0.5541 - accuracy: 0.7589\n",
            "Epoch 152/200\n",
            "30/30 [==============================] - 0s 2ms/step - loss: 0.5930 - accuracy: 0.7222\n",
            "Epoch 153/200\n",
            "30/30 [==============================] - 0s 2ms/step - loss: 0.5569 - accuracy: 0.7567\n",
            "Epoch 154/200\n",
            "30/30 [==============================] - 0s 2ms/step - loss: 0.5519 - accuracy: 0.7600\n",
            "Epoch 155/200\n",
            "30/30 [==============================] - 0s 2ms/step - loss: 0.5579 - accuracy: 0.7544\n",
            "Epoch 156/200\n",
            "30/30 [==============================] - 0s 1ms/step - loss: 0.5621 - accuracy: 0.7511\n",
            "Epoch 157/200\n",
            "30/30 [==============================] - 0s 2ms/step - loss: 0.5445 - accuracy: 0.7667\n",
            "Epoch 158/200\n",
            "30/30 [==============================] - 0s 2ms/step - loss: 0.5273 - accuracy: 0.7800\n",
            "Epoch 159/200\n",
            "30/30 [==============================] - 0s 2ms/step - loss: 0.5661 - accuracy: 0.7489\n",
            "Epoch 160/200\n",
            "30/30 [==============================] - 0s 2ms/step - loss: 0.5777 - accuracy: 0.7367\n",
            "Epoch 161/200\n",
            "30/30 [==============================] - 0s 2ms/step - loss: 0.5772 - accuracy: 0.7367\n",
            "Epoch 162/200\n",
            "30/30 [==============================] - 0s 2ms/step - loss: 0.5660 - accuracy: 0.7478\n",
            "Epoch 163/200\n",
            "30/30 [==============================] - 0s 2ms/step - loss: 0.5669 - accuracy: 0.7467\n",
            "Epoch 164/200\n",
            "30/30 [==============================] - 0s 2ms/step - loss: 0.5774 - accuracy: 0.7367\n",
            "Epoch 165/200\n",
            "30/30 [==============================] - 0s 2ms/step - loss: 0.5559 - accuracy: 0.7567\n",
            "Epoch 166/200\n",
            "30/30 [==============================] - 0s 2ms/step - loss: 0.5715 - accuracy: 0.7422\n",
            "Epoch 167/200\n",
            "30/30 [==============================] - 0s 2ms/step - loss: 0.5605 - accuracy: 0.7522\n",
            "Epoch 168/200\n",
            "30/30 [==============================] - 0s 2ms/step - loss: 0.5608 - accuracy: 0.7522\n",
            "Epoch 169/200\n",
            "30/30 [==============================] - 0s 2ms/step - loss: 0.5904 - accuracy: 0.7244\n",
            "Epoch 170/200\n",
            "30/30 [==============================] - 0s 2ms/step - loss: 0.5455 - accuracy: 0.7667\n",
            "Epoch 171/200\n",
            "30/30 [==============================] - 0s 2ms/step - loss: 0.5717 - accuracy: 0.7422\n",
            "Epoch 172/200\n",
            "30/30 [==============================] - 0s 2ms/step - loss: 0.5678 - accuracy: 0.7456\n",
            "Epoch 173/200\n",
            "30/30 [==============================] - 0s 2ms/step - loss: 0.5886 - accuracy: 0.7256\n",
            "Epoch 174/200\n",
            "30/30 [==============================] - 0s 2ms/step - loss: 0.5596 - accuracy: 0.7533\n",
            "Epoch 175/200\n",
            "30/30 [==============================] - 0s 2ms/step - loss: 0.5624 - accuracy: 0.7500\n",
            "Epoch 176/200\n",
            "30/30 [==============================] - 0s 2ms/step - loss: 0.5595 - accuracy: 0.7533\n",
            "Epoch 177/200\n",
            "30/30 [==============================] - 0s 2ms/step - loss: 0.5580 - accuracy: 0.7544\n",
            "Epoch 178/200\n",
            "30/30 [==============================] - 0s 2ms/step - loss: 0.5593 - accuracy: 0.7533\n",
            "Epoch 179/200\n",
            "30/30 [==============================] - 0s 2ms/step - loss: 0.5516 - accuracy: 0.7600\n",
            "Epoch 180/200\n",
            "30/30 [==============================] - 0s 2ms/step - loss: 0.5518 - accuracy: 0.7600\n",
            "Epoch 181/200\n",
            "30/30 [==============================] - 0s 1ms/step - loss: 0.5597 - accuracy: 0.7533\n",
            "Epoch 182/200\n",
            "30/30 [==============================] - 0s 2ms/step - loss: 0.5573 - accuracy: 0.7556\n",
            "Epoch 183/200\n",
            "30/30 [==============================] - 0s 2ms/step - loss: 0.5798 - accuracy: 0.7344\n",
            "Epoch 184/200\n",
            "30/30 [==============================] - 0s 2ms/step - loss: 0.5776 - accuracy: 0.7367\n",
            "Epoch 185/200\n",
            "30/30 [==============================] - 0s 3ms/step - loss: 0.5537 - accuracy: 0.7589\n",
            "Epoch 186/200\n",
            "30/30 [==============================] - 0s 2ms/step - loss: 0.5431 - accuracy: 0.7678\n",
            "Epoch 187/200\n",
            "30/30 [==============================] - 0s 2ms/step - loss: 0.5645 - accuracy: 0.7489\n",
            "Epoch 188/200\n",
            "30/30 [==============================] - 0s 2ms/step - loss: 0.5739 - accuracy: 0.7400\n",
            "Epoch 189/200\n",
            "30/30 [==============================] - 0s 2ms/step - loss: 0.5496 - accuracy: 0.7622\n",
            "Epoch 190/200\n",
            "30/30 [==============================] - 0s 2ms/step - loss: 0.5520 - accuracy: 0.7600\n",
            "Epoch 191/200\n",
            "30/30 [==============================] - 0s 2ms/step - loss: 0.5714 - accuracy: 0.7422\n",
            "Epoch 192/200\n",
            "30/30 [==============================] - 0s 2ms/step - loss: 0.5752 - accuracy: 0.7389\n",
            "Epoch 193/200\n",
            "30/30 [==============================] - 0s 2ms/step - loss: 0.5855 - accuracy: 0.7289\n",
            "Epoch 194/200\n",
            "30/30 [==============================] - 0s 2ms/step - loss: 0.5488 - accuracy: 0.7633\n",
            "Epoch 195/200\n",
            "30/30 [==============================] - 0s 2ms/step - loss: 0.5847 - accuracy: 0.7300\n",
            "Epoch 196/200\n",
            "30/30 [==============================] - 0s 2ms/step - loss: 0.5577 - accuracy: 0.7556\n",
            "Epoch 197/200\n",
            "30/30 [==============================] - 0s 2ms/step - loss: 0.5587 - accuracy: 0.7544\n",
            "Epoch 198/200\n",
            "30/30 [==============================] - 0s 2ms/step - loss: 0.5485 - accuracy: 0.7633\n",
            "Epoch 199/200\n",
            "30/30 [==============================] - 0s 1ms/step - loss: 0.5608 - accuracy: 0.7522\n",
            "Epoch 200/200\n",
            "30/30 [==============================] - 0s 2ms/step - loss: 0.5620 - accuracy: 0.7511\n"
          ]
        }
      ]
    },
    {
      "cell_type": "code",
      "metadata": {
        "colab": {
          "base_uri": "https://localhost:8080/"
        },
        "id": "CF-iDWB0UcZ-",
        "outputId": "87626400-fb96-4b16-b2e8-514a974cc8b8"
      },
      "source": [
        "model1.evaluate(X_val, y_val)"
      ],
      "execution_count": null,
      "outputs": [
        {
          "output_type": "stream",
          "name": "stdout",
          "text": [
            "120/120 [==============================] - 0s 1ms/step - loss: 0.5608 - accuracy: 0.7516\n"
          ]
        },
        {
          "output_type": "execute_result",
          "data": {
            "text/plain": [
              "[0.5607597231864929, 0.7515657544136047]"
            ]
          },
          "metadata": {},
          "execution_count": 47
        }
      ]
    },
    {
      "cell_type": "markdown",
      "metadata": {
        "id": "iuXbRamZNqlG"
      },
      "source": [
        "* 정확도: 0.7516"
      ]
    },
    {
      "cell_type": "markdown",
      "metadata": {
        "id": "IVH5OPpWNwZn"
      },
      "source": [
        "epoch수가 증가할때의 손실함수와 정확도의 그래프"
      ]
    },
    {
      "cell_type": "code",
      "metadata": {
        "colab": {
          "base_uri": "https://localhost:8080/",
          "height": 324
        },
        "id": "Wc8dnsi3VI1z",
        "outputId": "377c01ff-3786-4d71-af6c-72f80681aca2"
      },
      "source": [
        "pd.DataFrame(history1.history).plot(figsize = (15, 5))\n",
        "plt.grid(True)\n",
        "plt.gca().set_ylim(0, 1)\n",
        "plt.show()"
      ],
      "execution_count": null,
      "outputs": [
        {
          "output_type": "display_data",
          "data": {
            "image/png": "[encoded data removed]",
            "text/plain": [
              "<Figure size 1080x360 with 1 Axes>"
            ]
          },
          "metadata": {
            "needs_background": "light"
          }
        }
      ]
    },
    {
      "cell_type": "code",
      "metadata": {
        "colab": {
          "base_uri": "https://localhost:8080/"
        },
        "id": "EE8D3yCTUch2",
        "outputId": "7e57e213-e028-4ceb-86cd-3ee21e0f8632"
      },
      "source": [
        "X_new = X_val[:]\n",
        "y_proba = model1.predict(X_new)\n",
        "y_proba.round(2)"
      ],
      "execution_count": null,
      "outputs": [
        {
          "output_type": "execute_result",
          "data": {
            "text/plain": [
              "array([[0.7 , 0.44],\n",
              "       [0.7 , 0.44],\n",
              "       [0.7 , 0.44],\n",
              "       ...,\n",
              "       [0.71, 0.45],\n",
              "       [0.7 , 0.44],\n",
              "       [0.7 , 0.44]], dtype=float32)"
            ]
          },
          "metadata": {},
          "execution_count": 49
        }
      ]
    },
    {
      "cell_type": "markdown",
      "metadata": {
        "id": "55SoeKweOAJo"
      },
      "source": [
        "불균형 처리를 하지 않아, 정확도는 0.7 몇 이지만 거의 0으로 예측을 해버려서 불균형 처리 진행"
      ]
    },
    {
      "cell_type": "markdown",
      "metadata": {
        "id": "H57pLQ3GzhJr"
      },
      "source": [
        "### 불균형 처리 후 모델링"
      ]
    },
    {
      "cell_type": "code",
      "metadata": {
        "colab": {
          "base_uri": "https://localhost:8080/"
        },
        "id": "CQmigTZSzvuZ",
        "outputId": "a67044e8-1a18-4937-9b1d-45ff37534a76"
      },
      "source": [
        "history4 = model1.fit(X_train_sm, y_train_sm ,epochs = 50,batch_size=30,steps_per_epoch=400)"
      ],
      "execution_count": null,
      "outputs": [
        {
          "output_type": "stream",
          "name": "stdout",
          "text": [
            "Epoch 1/50\n",
            "400/400 [==============================] - 1s 2ms/step - loss: 0.6973 - accuracy: 0.4957\n",
            "Epoch 2/50\n",
            "400/400 [==============================] - 1s 2ms/step - loss: 0.6942 - accuracy: 0.4952\n",
            "Epoch 3/50\n",
            "400/400 [==============================] - 1s 2ms/step - loss: 0.6939 - accuracy: 0.4966\n",
            "Epoch 4/50\n",
            "400/400 [==============================] - 1s 2ms/step - loss: 0.6939 - accuracy: 0.4978\n",
            "Epoch 5/50\n",
            "400/400 [==============================] - 1s 2ms/step - loss: 0.6936 - accuracy: 0.5080\n",
            "Epoch 6/50\n",
            "400/400 [==============================] - 1s 2ms/step - loss: 0.6935 - accuracy: 0.5046\n",
            "Epoch 7/50\n",
            "400/400 [==============================] - 1s 2ms/step - loss: 0.6936 - accuracy: 0.5033\n",
            "Epoch 8/50\n",
            "400/400 [==============================] - 1s 2ms/step - loss: 0.6937 - accuracy: 0.5023\n",
            "Epoch 9/50\n",
            "400/400 [==============================] - 1s 2ms/step - loss: 0.6937 - accuracy: 0.5017\n",
            "Epoch 10/50\n",
            "400/400 [==============================] - 1s 2ms/step - loss: 0.6937 - accuracy: 0.5004\n",
            "Epoch 11/50\n",
            "400/400 [==============================] - 1s 2ms/step - loss: 0.6935 - accuracy: 0.5044\n",
            "Epoch 12/50\n",
            "400/400 [==============================] - 1s 2ms/step - loss: 0.6937 - accuracy: 0.4980\n",
            "Epoch 13/50\n",
            "400/400 [==============================] - 1s 2ms/step - loss: 0.6940 - accuracy: 0.4949\n",
            "Epoch 14/50\n",
            "400/400 [==============================] - 1s 2ms/step - loss: 0.6937 - accuracy: 0.4980\n",
            "Epoch 15/50\n",
            "400/400 [==============================] - 1s 2ms/step - loss: 0.6939 - accuracy: 0.4950\n",
            "Epoch 16/50\n",
            "400/400 [==============================] - 1s 2ms/step - loss: 0.6938 - accuracy: 0.4964\n",
            "Epoch 17/50\n",
            "400/400 [==============================] - 1s 2ms/step - loss: 0.6941 - accuracy: 0.4972\n",
            "Epoch 18/50\n",
            "400/400 [==============================] - 1s 2ms/step - loss: 0.6939 - accuracy: 0.4937\n",
            "Epoch 19/50\n",
            "400/400 [==============================] - 1s 2ms/step - loss: 0.6938 - accuracy: 0.4972\n",
            "Epoch 20/50\n",
            "400/400 [==============================] - 1s 2ms/step - loss: 0.6941 - accuracy: 0.4957\n",
            "Epoch 21/50\n",
            "400/400 [==============================] - 1s 2ms/step - loss: 0.6940 - accuracy: 0.4924\n",
            "Epoch 22/50\n",
            "400/400 [==============================] - 1s 2ms/step - loss: 0.6936 - accuracy: 0.5013\n",
            "Epoch 23/50\n",
            "400/400 [==============================] - 1s 2ms/step - loss: 0.6941 - accuracy: 0.4905\n",
            "Epoch 24/50\n",
            "400/400 [==============================] - 1s 2ms/step - loss: 0.6939 - accuracy: 0.4982\n",
            "Epoch 25/50\n",
            "400/400 [==============================] - 1s 2ms/step - loss: 0.6940 - accuracy: 0.4925\n",
            "Epoch 26/50\n",
            "400/400 [==============================] - 1s 2ms/step - loss: 0.6937 - accuracy: 0.4948\n",
            "Epoch 27/50\n",
            "400/400 [==============================] - 1s 2ms/step - loss: 0.6935 - accuracy: 0.5044\n",
            "Epoch 28/50\n",
            "400/400 [==============================] - 1s 2ms/step - loss: 0.6938 - accuracy: 0.4956\n",
            "Epoch 29/50\n",
            "400/400 [==============================] - 1s 2ms/step - loss: 0.6938 - accuracy: 0.4964\n",
            "Epoch 30/50\n",
            "400/400 [==============================] - 1s 2ms/step - loss: 0.6937 - accuracy: 0.4972\n",
            "Epoch 31/50\n",
            "400/400 [==============================] - 1s 2ms/step - loss: 0.6935 - accuracy: 0.5027\n",
            "Epoch 32/50\n",
            "400/400 [==============================] - 1s 2ms/step - loss: 0.6934 - accuracy: 0.5053\n",
            "Epoch 33/50\n",
            "400/400 [==============================] - 1s 2ms/step - loss: 0.6929 - accuracy: 0.5104\n",
            "Epoch 34/50\n",
            "400/400 [==============================] - 1s 2ms/step - loss: 0.6934 - accuracy: 0.5027\n",
            "Epoch 35/50\n",
            "400/400 [==============================] - 1s 2ms/step - loss: 0.6934 - accuracy: 0.5012\n",
            "Epoch 36/50\n",
            "400/400 [==============================] - 1s 2ms/step - loss: 0.6936 - accuracy: 0.4972\n",
            "Epoch 37/50\n",
            "400/400 [==============================] - 1s 2ms/step - loss: 0.6934 - accuracy: 0.4971\n",
            "Epoch 38/50\n",
            "400/400 [==============================] - 1s 2ms/step - loss: 0.6935 - accuracy: 0.5010\n",
            "Epoch 39/50\n",
            "400/400 [==============================] - 1s 2ms/step - loss: 0.6936 - accuracy: 0.5020\n",
            "Epoch 40/50\n",
            "400/400 [==============================] - 1s 2ms/step - loss: 0.6935 - accuracy: 0.5023\n",
            "Epoch 41/50\n",
            "400/400 [==============================] - 1s 2ms/step - loss: 0.6933 - accuracy: 0.5048\n",
            "Epoch 42/50\n",
            "400/400 [==============================] - 1s 2ms/step - loss: 0.6934 - accuracy: 0.5070\n",
            "Epoch 43/50\n",
            "400/400 [==============================] - 1s 2ms/step - loss: 0.6935 - accuracy: 0.5025\n",
            "Epoch 44/50\n",
            "400/400 [==============================] - 1s 2ms/step - loss: 0.6940 - accuracy: 0.4959\n",
            "Epoch 45/50\n",
            "400/400 [==============================] - 1s 2ms/step - loss: 0.6938 - accuracy: 0.5005\n",
            "Epoch 46/50\n",
            "400/400 [==============================] - 1s 2ms/step - loss: 0.6935 - accuracy: 0.4975\n",
            "Epoch 47/50\n",
            "400/400 [==============================] - 1s 2ms/step - loss: 0.6936 - accuracy: 0.5029\n",
            "Epoch 48/50\n",
            "400/400 [==============================] - 1s 2ms/step - loss: 0.6937 - accuracy: 0.5069\n",
            "Epoch 49/50\n",
            "400/400 [==============================] - 1s 2ms/step - loss: 0.6941 - accuracy: 0.4901\n",
            "Epoch 50/50\n",
            "400/400 [==============================] - 1s 2ms/step - loss: 0.6938 - accuracy: 0.4968\n"
          ]
        }
      ]
    },
    {
      "cell_type": "code",
      "metadata": {
        "colab": {
          "base_uri": "https://localhost:8080/"
        },
        "id": "CQsLgabF0D5V",
        "outputId": "60db99a4-ce9b-491c-95bb-9fd51f4c2724"
      },
      "source": [
        "model1.evaluate(X_val_sm, y_val_sm)"
      ],
      "execution_count": null,
      "outputs": [
        {
          "output_type": "stream",
          "name": "stdout",
          "text": [
            "180/180 [==============================] - 0s 2ms/step - loss: 0.6936 - accuracy: 0.5000\n"
          ]
        },
        {
          "output_type": "execute_result",
          "data": {
            "text/plain": [
              "[0.6936371326446533, 0.5]"
            ]
          },
          "metadata": {},
          "execution_count": 51
        }
      ]
    },
    {
      "cell_type": "code",
      "metadata": {
        "colab": {
          "base_uri": "https://localhost:8080/",
          "height": 324
        },
        "id": "P61gwp6S3Gik",
        "outputId": "2b51a988-4e29-4d5a-cc4f-e6f20d7c128b"
      },
      "source": [
        "pd.DataFrame(history4.history).plot(figsize = (15, 5))    \n",
        "plt.grid(True)\n",
        "plt.gca().set_ylim(0, 1)\n",
        "plt.show()"
      ],
      "execution_count": null,
      "outputs": [
        {
          "output_type": "display_data",
          "data": {
            "image/png": "[encoded data removed]",
            "text/plain": [
              "<Figure size 1080x360 with 1 Axes>"
            ]
          },
          "metadata": {
            "needs_background": "light"
          }
        }
      ]
    },
    {
      "cell_type": "code",
      "metadata": {
        "colab": {
          "base_uri": "https://localhost:8080/"
        },
        "id": "alM9F9ok3-EW",
        "outputId": "38032a9c-4824-4dc6-f8f4-bc2207c12afa"
      },
      "source": [
        "X_new = X_val_sm[:]\n",
        "y_proba = model1.predict(X_new)\n",
        "y_proba.round(2)"
      ],
      "execution_count": null,
      "outputs": [
        {
          "output_type": "execute_result",
          "data": {
            "text/plain": [
              "array([[0.58, 0.57],\n",
              "       [0.58, 0.57],\n",
              "       [0.58, 0.57],\n",
              "       ...,\n",
              "       [0.58, 0.57],\n",
              "       [0.58, 0.57],\n",
              "       [0.58, 0.57]], dtype=float32)"
            ]
          },
          "metadata": {},
          "execution_count": 54
        }
      ]
    },
    {
      "cell_type": "code",
      "metadata": {
        "colab": {
          "base_uri": "https://localhost:8080/"
        },
        "id": "K6nNvaiW3Tob",
        "outputId": "85265352-df72-44e8-a43f-7f043068baaf"
      },
      "source": [
        "history5 = model1.fit(X_train_ada, y_train_ada ,epochs = 50,batch_size=30,steps_per_epoch=400)"
      ],
      "execution_count": null,
      "outputs": [
        {
          "output_type": "stream",
          "name": "stdout",
          "text": [
            "Epoch 1/50\n",
            "400/400 [==============================] - 1s 2ms/step - loss: 0.6935 - accuracy: 0.5089\n",
            "Epoch 2/50\n",
            "400/400 [==============================] - 1s 2ms/step - loss: 0.6933 - accuracy: 0.5051\n",
            "Epoch 3/50\n",
            "400/400 [==============================] - 1s 2ms/step - loss: 0.6936 - accuracy: 0.5046\n",
            "Epoch 4/50\n",
            "400/400 [==============================] - 1s 2ms/step - loss: 0.6936 - accuracy: 0.4984\n",
            "Epoch 5/50\n",
            "400/400 [==============================] - 1s 2ms/step - loss: 0.6938 - accuracy: 0.4963\n",
            "Epoch 6/50\n",
            "400/400 [==============================] - 1s 2ms/step - loss: 0.6937 - accuracy: 0.5009\n",
            "Epoch 7/50\n",
            "400/400 [==============================] - 1s 2ms/step - loss: 0.6937 - accuracy: 0.5037\n",
            "Epoch 8/50\n",
            "400/400 [==============================] - 1s 2ms/step - loss: 0.6937 - accuracy: 0.4975\n",
            "Epoch 9/50\n",
            "400/400 [==============================] - 1s 2ms/step - loss: 0.6940 - accuracy: 0.4921\n",
            "Epoch 10/50\n",
            "400/400 [==============================] - 1s 2ms/step - loss: 0.6937 - accuracy: 0.4965\n",
            "Epoch 11/50\n",
            "400/400 [==============================] - 1s 2ms/step - loss: 0.6937 - accuracy: 0.4911\n",
            "Epoch 12/50\n",
            "400/400 [==============================] - 1s 2ms/step - loss: 0.6936 - accuracy: 0.5014\n",
            "Epoch 13/50\n",
            "400/400 [==============================] - 1s 2ms/step - loss: 0.6937 - accuracy: 0.5020\n",
            "Epoch 14/50\n",
            "400/400 [==============================] - 1s 2ms/step - loss: 0.6939 - accuracy: 0.4906\n",
            "Epoch 15/50\n",
            "400/400 [==============================] - 1s 2ms/step - loss: 0.6933 - accuracy: 0.5052\n",
            "Epoch 16/50\n",
            "400/400 [==============================] - 1s 2ms/step - loss: 0.6935 - accuracy: 0.5071\n",
            "Epoch 17/50\n",
            "400/400 [==============================] - 1s 2ms/step - loss: 0.6937 - accuracy: 0.4942\n",
            "Epoch 18/50\n",
            "400/400 [==============================] - 1s 2ms/step - loss: 0.6935 - accuracy: 0.5054\n",
            "Epoch 19/50\n",
            "400/400 [==============================] - 1s 2ms/step - loss: 0.6937 - accuracy: 0.4961\n",
            "Epoch 20/50\n",
            "400/400 [==============================] - 1s 2ms/step - loss: 0.6936 - accuracy: 0.5016\n",
            "Epoch 21/50\n",
            "400/400 [==============================] - 1s 2ms/step - loss: 0.6936 - accuracy: 0.5052\n",
            "Epoch 22/50\n",
            "400/400 [==============================] - 1s 2ms/step - loss: 0.6937 - accuracy: 0.4988\n",
            "Epoch 23/50\n",
            "400/400 [==============================] - 1s 2ms/step - loss: 0.6934 - accuracy: 0.5028\n",
            "Epoch 24/50\n",
            "400/400 [==============================] - 1s 2ms/step - loss: 0.6933 - accuracy: 0.5063\n",
            "Epoch 25/50\n",
            "400/400 [==============================] - 1s 2ms/step - loss: 0.6933 - accuracy: 0.5056\n",
            "Epoch 26/50\n",
            "400/400 [==============================] - 1s 2ms/step - loss: 0.6936 - accuracy: 0.4980\n",
            "Epoch 27/50\n",
            "400/400 [==============================] - 1s 2ms/step - loss: 0.6937 - accuracy: 0.4959\n",
            "Epoch 28/50\n",
            "400/400 [==============================] - 1s 2ms/step - loss: 0.6936 - accuracy: 0.4992\n",
            "Epoch 29/50\n",
            "400/400 [==============================] - 1s 2ms/step - loss: 0.6937 - accuracy: 0.4970\n",
            "Epoch 30/50\n",
            "400/400 [==============================] - 1s 2ms/step - loss: 0.6935 - accuracy: 0.5047\n",
            "Epoch 31/50\n",
            "400/400 [==============================] - 1s 2ms/step - loss: 0.6938 - accuracy: 0.4969\n",
            "Epoch 32/50\n",
            "400/400 [==============================] - 1s 2ms/step - loss: 0.6936 - accuracy: 0.4980\n",
            "Epoch 33/50\n",
            "400/400 [==============================] - 1s 2ms/step - loss: 0.6939 - accuracy: 0.4906\n",
            "Epoch 34/50\n",
            "400/400 [==============================] - 1s 2ms/step - loss: 0.6939 - accuracy: 0.4940\n",
            "Epoch 35/50\n",
            "400/400 [==============================] - 1s 2ms/step - loss: 0.6935 - accuracy: 0.5020\n",
            "Epoch 36/50\n",
            "400/400 [==============================] - 1s 2ms/step - loss: 0.6936 - accuracy: 0.5023\n",
            "Epoch 37/50\n",
            "400/400 [==============================] - 1s 2ms/step - loss: 0.6934 - accuracy: 0.5050\n",
            "Epoch 38/50\n",
            "400/400 [==============================] - 1s 2ms/step - loss: 0.6935 - accuracy: 0.5036\n",
            "Epoch 39/50\n",
            "400/400 [==============================] - 1s 2ms/step - loss: 0.6939 - accuracy: 0.4972\n",
            "Epoch 40/50\n",
            "400/400 [==============================] - 1s 2ms/step - loss: 0.6938 - accuracy: 0.4917\n",
            "Epoch 41/50\n",
            "400/400 [==============================] - 1s 2ms/step - loss: 0.6938 - accuracy: 0.4975\n",
            "Epoch 42/50\n",
            "400/400 [==============================] - 1s 2ms/step - loss: 0.6937 - accuracy: 0.5048\n",
            "Epoch 43/50\n",
            "400/400 [==============================] - 1s 2ms/step - loss: 0.6933 - accuracy: 0.5079\n",
            "Epoch 44/50\n",
            "400/400 [==============================] - 1s 2ms/step - loss: 0.6936 - accuracy: 0.5056\n",
            "Epoch 45/50\n",
            "400/400 [==============================] - 1s 2ms/step - loss: 0.6937 - accuracy: 0.4965\n",
            "Epoch 46/50\n",
            "400/400 [==============================] - 1s 2ms/step - loss: 0.6935 - accuracy: 0.5077\n",
            "Epoch 47/50\n",
            "400/400 [==============================] - 1s 2ms/step - loss: 0.6934 - accuracy: 0.5040\n",
            "Epoch 48/50\n",
            "400/400 [==============================] - 1s 2ms/step - loss: 0.6933 - accuracy: 0.5067\n",
            "Epoch 49/50\n",
            "400/400 [==============================] - 1s 2ms/step - loss: 0.6938 - accuracy: 0.4953\n",
            "Epoch 50/50\n",
            "400/400 [==============================] - 1s 2ms/step - loss: 0.6936 - accuracy: 0.5034\n"
          ]
        }
      ]
    },
    {
      "cell_type": "code",
      "metadata": {
        "colab": {
          "base_uri": "https://localhost:8080/"
        },
        "id": "kgBTmk-13ZgK",
        "outputId": "5b5432b9-5cab-420c-937a-a313b25dcd96"
      },
      "source": [
        "model1.evaluate(X_val_ada, y_val_ada)"
      ],
      "execution_count": null,
      "outputs": [
        {
          "output_type": "stream",
          "name": "stdout",
          "text": [
            "182/182 [==============================] - 0s 2ms/step - loss: 0.6935 - accuracy: 0.5050\n"
          ]
        },
        {
          "output_type": "execute_result",
          "data": {
            "text/plain": [
              "[0.6934756636619568, 0.5049845576286316]"
            ]
          },
          "metadata": {},
          "execution_count": 56
        }
      ]
    },
    {
      "cell_type": "code",
      "metadata": {
        "colab": {
          "base_uri": "https://localhost:8080/",
          "height": 324
        },
        "id": "asAwOVhc3f2l",
        "outputId": "309deaa6-07e9-4d1f-f5e8-1d4af594ca76"
      },
      "source": [
        "pd.DataFrame(history5.history).plot(figsize = (15, 5))    \n",
        "plt.grid(True)\n",
        "plt.gca().set_ylim(0, 1)\n",
        "plt.show()"
      ],
      "execution_count": null,
      "outputs": [
        {
          "output_type": "display_data",
          "data": {
            "image/png": "[encoded data removed]",
            "text/plain": [
              "<Figure size 1080x360 with 1 Axes>"
            ]
          },
          "metadata": {
            "needs_background": "light"
          }
        }
      ]
    },
    {
      "cell_type": "code",
      "metadata": {
        "colab": {
          "base_uri": "https://localhost:8080/"
        },
        "id": "xKZPDSxH3zWx",
        "outputId": "1926c073-b9c7-4042-e75d-2ae1fac0323d"
      },
      "source": [
        "X_new = X_val_ada[:]\n",
        "y_proba = model1.predict(X_new)\n",
        "y_proba.round(2)"
      ],
      "execution_count": null,
      "outputs": [
        {
          "output_type": "execute_result",
          "data": {
            "text/plain": [
              "array([[0.58, 0.6 ],\n",
              "       [0.58, 0.6 ],\n",
              "       [0.58, 0.6 ],\n",
              "       ...,\n",
              "       [0.58, 0.6 ],\n",
              "       [0.57, 0.6 ],\n",
              "       [0.58, 0.6 ]], dtype=float32)"
            ]
          },
          "metadata": {},
          "execution_count": 59
        }
      ]
    },
    {
      "cell_type": "markdown",
      "metadata": {
        "id": "cLkC4sp7OiW2"
      },
      "source": [
        "성능이 좋지 못해 개선하는 방법으로 딥러닝 하이퍼파라미터인 활성화 함수를 다른 값으로 바꿔보며 진행"
      ]
    },
    {
      "cell_type": "code",
      "metadata": {
        "colab": {
          "base_uri": "https://localhost:8080/"
        },
        "id": "xUmOnpXs5QX-",
        "outputId": "9a4ab9ce-d89a-4273-ac00-e2974ad77134"
      },
      "source": [
        "model6 = keras.Sequential([keras.layers.Flatten(input_shape =(59,1)),\n",
        "                keras.layers.Dense(40,activation = 'relu'),    \n",
        "                keras.layers.Dense(30,activation = 'relu'),    \n",
        "                keras.layers.Dense(20,activation = 'relu'),   \n",
        "                keras.layers.Dense(2,activation = 'sigmoid')])\n",
        "model6.compile(optimizer = 'sgd',loss='sparse_categorical_crossentropy',metrics =['accuracy'])\n",
        "\n",
        "print(model6.summary())\n",
        "\n",
        "history6 = model6.fit(X_train_sm, y_train_sm ,epochs = 100,batch_size=32,steps_per_epoch=470)"
      ],
      "execution_count": null,
      "outputs": [
        {
          "output_type": "stream",
          "name": "stdout",
          "text": [
            "Model: \"sequential_1\"\n",
            "_________________________________________________________________\n",
            " Layer (type)                Output Shape              Param #   \n",
            "=================================================================\n",
            " flatten_1 (Flatten)         (None, 59)                0         \n",
            "                                                                 \n",
            " dense_4 (Dense)             (None, 40)                2400      \n",
            "                                                                 \n",
            " dense_5 (Dense)             (None, 30)                1230      \n",
            "                                                                 \n",
            " dense_6 (Dense)             (None, 20)                620       \n",
            "                                                                 \n",
            " dense_7 (Dense)             (None, 2)                 42        \n",
            "                                                                 \n",
            "=================================================================\n",
            "Total params: 4,292\n",
            "Trainable params: 4,292\n",
            "Non-trainable params: 0\n",
            "_________________________________________________________________\n",
            "None\n",
            "Epoch 1/100\n",
            "470/470 [==============================] - 1s 2ms/step - loss: 12254415872.0000 - accuracy: 0.5035\n",
            "Epoch 2/100\n",
            "470/470 [==============================] - 1s 1ms/step - loss: 0.6942 - accuracy: 0.4951\n",
            "Epoch 3/100\n",
            "470/470 [==============================] - 1s 2ms/step - loss: 0.6935 - accuracy: 0.5001\n",
            "Epoch 4/100\n",
            "470/470 [==============================] - 1s 1ms/step - loss: 0.6934 - accuracy: 0.5004\n",
            "Epoch 5/100\n",
            "470/470 [==============================] - 1s 2ms/step - loss: 0.6933 - accuracy: 0.4904\n",
            "Epoch 6/100\n",
            "470/470 [==============================] - 1s 1ms/step - loss: 0.6932 - accuracy: 0.4984\n",
            "Epoch 7/100\n",
            "470/470 [==============================] - 1s 2ms/step - loss: 0.6932 - accuracy: 0.5015\n",
            "Epoch 8/100\n",
            "470/470 [==============================] - 1s 2ms/step - loss: 0.6932 - accuracy: 0.4995\n",
            "Epoch 9/100\n",
            "470/470 [==============================] - 1s 2ms/step - loss: 0.6932 - accuracy: 0.5019\n",
            "Epoch 10/100\n",
            "470/470 [==============================] - 1s 2ms/step - loss: 0.6932 - accuracy: 0.4975\n",
            "Epoch 11/100\n",
            "470/470 [==============================] - 1s 1ms/step - loss: 0.6932 - accuracy: 0.4953\n",
            "Epoch 12/100\n",
            "470/470 [==============================] - 1s 1ms/step - loss: 0.6932 - accuracy: 0.4950\n",
            "Epoch 13/100\n",
            "470/470 [==============================] - 1s 2ms/step - loss: 0.6932 - accuracy: 0.4979\n",
            "Epoch 14/100\n",
            "470/470 [==============================] - 1s 1ms/step - loss: 0.6932 - accuracy: 0.4977\n",
            "Epoch 15/100\n",
            "470/470 [==============================] - 1s 1ms/step - loss: 0.6932 - accuracy: 0.4949\n",
            "Epoch 16/100\n",
            "470/470 [==============================] - 1s 1ms/step - loss: 0.6932 - accuracy: 0.4927\n",
            "Epoch 17/100\n",
            "470/470 [==============================] - 1s 1ms/step - loss: 0.6932 - accuracy: 0.4964\n",
            "Epoch 18/100\n",
            "470/470 [==============================] - 1s 1ms/step - loss: 0.6932 - accuracy: 0.4991\n",
            "Epoch 19/100\n",
            "470/470 [==============================] - 1s 1ms/step - loss: 0.6932 - accuracy: 0.4998\n",
            "Epoch 20/100\n",
            "470/470 [==============================] - 1s 1ms/step - loss: 0.6932 - accuracy: 0.4965\n",
            "Epoch 21/100\n",
            "470/470 [==============================] - 1s 1ms/step - loss: 0.6932 - accuracy: 0.5031\n",
            "Epoch 22/100\n",
            "470/470 [==============================] - 1s 1ms/step - loss: 0.6932 - accuracy: 0.4957\n",
            "Epoch 23/100\n",
            "470/470 [==============================] - 1s 1ms/step - loss: 0.6932 - accuracy: 0.4991\n",
            "Epoch 24/100\n",
            "470/470 [==============================] - 1s 1ms/step - loss: 0.6932 - accuracy: 0.5000\n",
            "Epoch 25/100\n",
            "470/470 [==============================] - 1s 1ms/step - loss: 0.6932 - accuracy: 0.5023\n",
            "Epoch 26/100\n",
            "470/470 [==============================] - 1s 1ms/step - loss: 0.6932 - accuracy: 0.4932\n",
            "Epoch 27/100\n",
            "470/470 [==============================] - 1s 2ms/step - loss: 0.6932 - accuracy: 0.4970\n",
            "Epoch 28/100\n",
            "470/470 [==============================] - 1s 1ms/step - loss: 0.6932 - accuracy: 0.5005\n",
            "Epoch 29/100\n",
            "470/470 [==============================] - 1s 2ms/step - loss: 0.6932 - accuracy: 0.4936\n",
            "Epoch 30/100\n",
            "470/470 [==============================] - 1s 1ms/step - loss: 0.6932 - accuracy: 0.4957\n",
            "Epoch 31/100\n",
            "470/470 [==============================] - 1s 1ms/step - loss: 0.6932 - accuracy: 0.4976\n",
            "Epoch 32/100\n",
            "470/470 [==============================] - 1s 1ms/step - loss: 0.6932 - accuracy: 0.4955\n",
            "Epoch 33/100\n",
            "470/470 [==============================] - 1s 1ms/step - loss: 0.6932 - accuracy: 0.4893\n",
            "Epoch 34/100\n",
            "470/470 [==============================] - 1s 1ms/step - loss: 0.6932 - accuracy: 0.4922\n",
            "Epoch 35/100\n",
            "470/470 [==============================] - 1s 1ms/step - loss: 0.6932 - accuracy: 0.4946\n",
            "Epoch 36/100\n",
            "470/470 [==============================] - 1s 1ms/step - loss: 0.6932 - accuracy: 0.4991\n",
            "Epoch 37/100\n",
            "470/470 [==============================] - 1s 2ms/step - loss: 0.6932 - accuracy: 0.5019\n",
            "Epoch 38/100\n",
            "470/470 [==============================] - 1s 1ms/step - loss: 0.6932 - accuracy: 0.4967\n",
            "Epoch 39/100\n",
            "470/470 [==============================] - 1s 1ms/step - loss: 0.6932 - accuracy: 0.4902\n",
            "Epoch 40/100\n",
            "470/470 [==============================] - 1s 1ms/step - loss: 0.6932 - accuracy: 0.4977\n",
            "Epoch 41/100\n",
            "470/470 [==============================] - 1s 1ms/step - loss: 0.6932 - accuracy: 0.4972\n",
            "Epoch 42/100\n",
            "470/470 [==============================] - 1s 1ms/step - loss: 0.6932 - accuracy: 0.4951\n",
            "Epoch 43/100\n",
            "470/470 [==============================] - 1s 1ms/step - loss: 0.6932 - accuracy: 0.5045\n",
            "Epoch 44/100\n",
            "470/470 [==============================] - 1s 1ms/step - loss: 0.6932 - accuracy: 0.4983\n",
            "Epoch 45/100\n",
            "470/470 [==============================] - 1s 1ms/step - loss: 0.6932 - accuracy: 0.5013\n",
            "Epoch 46/100\n",
            "470/470 [==============================] - 1s 2ms/step - loss: 0.6932 - accuracy: 0.4971\n",
            "Epoch 47/100\n",
            "470/470 [==============================] - 1s 1ms/step - loss: 0.6932 - accuracy: 0.4930\n",
            "Epoch 48/100\n",
            "470/470 [==============================] - 1s 2ms/step - loss: 0.6932 - accuracy: 0.4927\n",
            "Epoch 49/100\n",
            "470/470 [==============================] - 1s 1ms/step - loss: 0.6932 - accuracy: 0.4976\n",
            "Epoch 50/100\n",
            "470/470 [==============================] - 1s 2ms/step - loss: 0.6932 - accuracy: 0.4984\n",
            "Epoch 51/100\n",
            "470/470 [==============================] - 1s 1ms/step - loss: 0.6932 - accuracy: 0.4955\n",
            "Epoch 52/100\n",
            "470/470 [==============================] - 1s 2ms/step - loss: 0.6932 - accuracy: 0.4959\n",
            "Epoch 53/100\n",
            "470/470 [==============================] - 1s 1ms/step - loss: 0.6932 - accuracy: 0.5007\n",
            "Epoch 54/100\n",
            "470/470 [==============================] - 1s 1ms/step - loss: 0.6932 - accuracy: 0.5024\n",
            "Epoch 55/100\n",
            "470/470 [==============================] - 1s 1ms/step - loss: 0.6932 - accuracy: 0.4999\n",
            "Epoch 56/100\n",
            "470/470 [==============================] - 1s 1ms/step - loss: 0.6932 - accuracy: 0.4933\n",
            "Epoch 57/100\n",
            "470/470 [==============================] - 1s 2ms/step - loss: 0.6932 - accuracy: 0.4996\n",
            "Epoch 58/100\n",
            "470/470 [==============================] - 1s 1ms/step - loss: 0.6932 - accuracy: 0.4926\n",
            "Epoch 59/100\n",
            "470/470 [==============================] - 1s 1ms/step - loss: 0.6932 - accuracy: 0.4972\n",
            "Epoch 60/100\n",
            "470/470 [==============================] - 1s 2ms/step - loss: 0.6932 - accuracy: 0.4993\n",
            "Epoch 61/100\n",
            "470/470 [==============================] - 1s 1ms/step - loss: 0.6932 - accuracy: 0.5000\n",
            "Epoch 62/100\n",
            "470/470 [==============================] - 1s 1ms/step - loss: 0.6932 - accuracy: 0.5029\n",
            "Epoch 63/100\n",
            "470/470 [==============================] - 1s 2ms/step - loss: 0.6932 - accuracy: 0.5046\n",
            "Epoch 64/100\n",
            "470/470 [==============================] - 1s 1ms/step - loss: 0.6932 - accuracy: 0.4999\n",
            "Epoch 65/100\n",
            "470/470 [==============================] - 1s 2ms/step - loss: 0.6932 - accuracy: 0.4998\n",
            "Epoch 66/100\n",
            "470/470 [==============================] - 1s 1ms/step - loss: 0.6932 - accuracy: 0.5020\n",
            "Epoch 67/100\n",
            "470/470 [==============================] - 1s 2ms/step - loss: 0.6932 - accuracy: 0.4995\n",
            "Epoch 68/100\n",
            "470/470 [==============================] - 1s 2ms/step - loss: 0.6932 - accuracy: 0.4951\n",
            "Epoch 69/100\n",
            "470/470 [==============================] - 1s 1ms/step - loss: 0.6932 - accuracy: 0.5005\n",
            "Epoch 70/100\n",
            "470/470 [==============================] - 1s 1ms/step - loss: 0.6932 - accuracy: 0.4977\n",
            "Epoch 71/100\n",
            "470/470 [==============================] - 1s 2ms/step - loss: 0.6932 - accuracy: 0.4993\n",
            "Epoch 72/100\n",
            "470/470 [==============================] - 1s 1ms/step - loss: 0.6932 - accuracy: 0.4993\n",
            "Epoch 73/100\n",
            "470/470 [==============================] - 1s 2ms/step - loss: 0.6932 - accuracy: 0.4995\n",
            "Epoch 74/100\n",
            "470/470 [==============================] - 1s 1ms/step - loss: 0.6932 - accuracy: 0.4977\n",
            "Epoch 75/100\n",
            "470/470 [==============================] - 1s 2ms/step - loss: 0.6932 - accuracy: 0.5007\n",
            "Epoch 76/100\n",
            "470/470 [==============================] - 1s 2ms/step - loss: 0.6932 - accuracy: 0.4967\n",
            "Epoch 77/100\n",
            "470/470 [==============================] - 1s 2ms/step - loss: 0.6932 - accuracy: 0.4988\n",
            "Epoch 78/100\n",
            "470/470 [==============================] - 1s 1ms/step - loss: 0.6932 - accuracy: 0.5005\n",
            "Epoch 79/100\n",
            "470/470 [==============================] - 1s 1ms/step - loss: 0.6931 - accuracy: 0.5061\n",
            "Epoch 80/100\n",
            "470/470 [==============================] - 1s 1ms/step - loss: 0.6932 - accuracy: 0.5006\n",
            "Epoch 81/100\n",
            "470/470 [==============================] - 1s 1ms/step - loss: 0.6932 - accuracy: 0.4965\n",
            "Epoch 82/100\n",
            "470/470 [==============================] - 1s 2ms/step - loss: 0.6932 - accuracy: 0.5023\n",
            "Epoch 83/100\n",
            "470/470 [==============================] - 1s 1ms/step - loss: 0.6932 - accuracy: 0.5023\n",
            "Epoch 84/100\n",
            "470/470 [==============================] - 1s 1ms/step - loss: 0.6932 - accuracy: 0.4977\n",
            "Epoch 85/100\n",
            "470/470 [==============================] - 1s 1ms/step - loss: 0.6932 - accuracy: 0.4955\n",
            "Epoch 86/100\n",
            "470/470 [==============================] - 1s 2ms/step - loss: 0.6932 - accuracy: 0.4985\n",
            "Epoch 87/100\n",
            "470/470 [==============================] - 1s 1ms/step - loss: 0.6932 - accuracy: 0.4982\n",
            "Epoch 88/100\n",
            "470/470 [==============================] - 1s 1ms/step - loss: 0.6932 - accuracy: 0.4999\n",
            "Epoch 89/100\n",
            "470/470 [==============================] - 1s 2ms/step - loss: 0.6931 - accuracy: 0.5031\n",
            "Epoch 90/100\n",
            "470/470 [==============================] - 1s 1ms/step - loss: 0.6932 - accuracy: 0.5015\n",
            "Epoch 91/100\n",
            "470/470 [==============================] - 1s 2ms/step - loss: 0.6932 - accuracy: 0.5038\n",
            "Epoch 92/100\n",
            "470/470 [==============================] - 1s 1ms/step - loss: 0.6932 - accuracy: 0.4949\n",
            "Epoch 93/100\n",
            "470/470 [==============================] - 1s 1ms/step - loss: 0.6932 - accuracy: 0.5004\n",
            "Epoch 94/100\n",
            "470/470 [==============================] - 1s 1ms/step - loss: 0.6932 - accuracy: 0.5007\n",
            "Epoch 95/100\n",
            "470/470 [==============================] - 1s 2ms/step - loss: 0.6932 - accuracy: 0.4967\n",
            "Epoch 96/100\n",
            "470/470 [==============================] - 1s 1ms/step - loss: 0.6932 - accuracy: 0.5012\n",
            "Epoch 97/100\n",
            "470/470 [==============================] - 1s 1ms/step - loss: 0.6932 - accuracy: 0.5019\n",
            "Epoch 98/100\n",
            "470/470 [==============================] - 1s 2ms/step - loss: 0.6932 - accuracy: 0.5018\n",
            "Epoch 99/100\n",
            "470/470 [==============================] - 1s 1ms/step - loss: 0.6932 - accuracy: 0.4961\n",
            "Epoch 100/100\n",
            "470/470 [==============================] - 1s 1ms/step - loss: 0.6932 - accuracy: 0.5020\n"
          ]
        }
      ]
    },
    {
      "cell_type": "code",
      "metadata": {
        "colab": {
          "base_uri": "https://localhost:8080/"
        },
        "id": "STtB9c3S6aaR",
        "outputId": "8f7ca0b8-1ccb-4490-e8b5-103981e7fb11"
      },
      "source": [
        "model6.evaluate(X_val_sm, y_val_sm)"
      ],
      "execution_count": null,
      "outputs": [
        {
          "output_type": "stream",
          "name": "stdout",
          "text": [
            "180/180 [==============================] - 0s 1ms/step - loss: 0.6932 - accuracy: 0.5000\n"
          ]
        },
        {
          "output_type": "execute_result",
          "data": {
            "text/plain": [
              "[0.6932317018508911, 0.5]"
            ]
          },
          "metadata": {},
          "execution_count": 61
        }
      ]
    },
    {
      "cell_type": "code",
      "metadata": {
        "colab": {
          "base_uri": "https://localhost:8080/"
        },
        "id": "Z3IG4JXYEsvO",
        "outputId": "8f2901a5-ebd0-4ca8-8412-f7d99e4527a5"
      },
      "source": [
        "# 층 쌓기\n",
        "model7 = keras.Sequential([keras.layers.Flatten(input_shape =(59,1)),\n",
        "                keras.layers.Dense(40,activation = 'relu'),    \n",
        "                keras.layers.Dense(20,activation = 'relu'),    \n",
        "                keras.layers.Dense(10,activation = 'relu'),   \n",
        "                keras.layers.Dense(2,activation = 'sigmoid')])\n",
        "model7.compile(optimizer = 'sgd',loss='sparse_categorical_crossentropy',metrics =['accuracy'])\n",
        "\n",
        "print(model7.summary())\n",
        "\n",
        "history7 = model7.fit(X_train_sm, y_train_sm ,epochs = 100,batch_size=32,steps_per_epoch=470)\n"
      ],
      "execution_count": null,
      "outputs": [
        {
          "output_type": "stream",
          "name": "stdout",
          "text": [
            "Model: \"sequential_2\"\n",
            "_________________________________________________________________\n",
            " Layer (type)                Output Shape              Param #   \n",
            "=================================================================\n",
            " flatten_2 (Flatten)         (None, 59)                0         \n",
            "                                                                 \n",
            " dense_8 (Dense)             (None, 40)                2400      \n",
            "                                                                 \n",
            " dense_9 (Dense)             (None, 20)                820       \n",
            "                                                                 \n",
            " dense_10 (Dense)            (None, 10)                210       \n",
            "                                                                 \n",
            " dense_11 (Dense)            (None, 2)                 22        \n",
            "                                                                 \n",
            "=================================================================\n",
            "Total params: 3,452\n",
            "Trainable params: 3,452\n",
            "Non-trainable params: 0\n",
            "_________________________________________________________________\n",
            "None\n",
            "Epoch 1/100\n",
            "470/470 [==============================] - 1s 1ms/step - loss: 9306942.0000 - accuracy: 0.4979\n",
            "Epoch 2/100\n",
            "470/470 [==============================] - 1s 2ms/step - loss: 0.6932 - accuracy: 0.5026\n",
            "Epoch 3/100\n",
            "470/470 [==============================] - 1s 1ms/step - loss: 0.6932 - accuracy: 0.4950\n",
            "Epoch 4/100\n",
            "470/470 [==============================] - 1s 1ms/step - loss: 0.6932 - accuracy: 0.5012\n",
            "Epoch 5/100\n",
            "470/470 [==============================] - 1s 1ms/step - loss: 0.6931 - accuracy: 0.5050\n",
            "Epoch 6/100\n",
            "470/470 [==============================] - 1s 1ms/step - loss: 0.6933 - accuracy: 0.4954\n",
            "Epoch 7/100\n",
            "470/470 [==============================] - 1s 1ms/step - loss: 0.6932 - accuracy: 0.4979\n",
            "Epoch 8/100\n",
            "470/470 [==============================] - 1s 1ms/step - loss: 0.6932 - accuracy: 0.4969\n",
            "Epoch 9/100\n",
            "470/470 [==============================] - 1s 2ms/step - loss: 0.6932 - accuracy: 0.4981\n",
            "Epoch 10/100\n",
            "470/470 [==============================] - 1s 1ms/step - loss: 0.6932 - accuracy: 0.5006\n",
            "Epoch 11/100\n",
            "470/470 [==============================] - 1s 1ms/step - loss: 0.6932 - accuracy: 0.5027\n",
            "Epoch 12/100\n",
            "470/470 [==============================] - 1s 1ms/step - loss: 0.6932 - accuracy: 0.4990\n",
            "Epoch 13/100\n",
            "470/470 [==============================] - 1s 1ms/step - loss: 0.6932 - accuracy: 0.4949\n",
            "Epoch 14/100\n",
            "470/470 [==============================] - 1s 1ms/step - loss: 0.6932 - accuracy: 0.4898\n",
            "Epoch 15/100\n",
            "470/470 [==============================] - 1s 1ms/step - loss: 0.6932 - accuracy: 0.4990\n",
            "Epoch 16/100\n",
            "470/470 [==============================] - 1s 1ms/step - loss: 0.6932 - accuracy: 0.4926\n",
            "Epoch 17/100\n",
            "470/470 [==============================] - 1s 1ms/step - loss: 0.6932 - accuracy: 0.4958\n",
            "Epoch 18/100\n",
            "470/470 [==============================] - 1s 1ms/step - loss: 0.6932 - accuracy: 0.5008\n",
            "Epoch 19/100\n",
            "470/470 [==============================] - 1s 1ms/step - loss: 0.6932 - accuracy: 0.4944\n",
            "Epoch 20/100\n",
            "470/470 [==============================] - 1s 1ms/step - loss: 0.6932 - accuracy: 0.4973\n",
            "Epoch 21/100\n",
            "470/470 [==============================] - 1s 1ms/step - loss: 0.6932 - accuracy: 0.5014\n",
            "Epoch 22/100\n",
            "470/470 [==============================] - 1s 1ms/step - loss: 0.6932 - accuracy: 0.5050\n",
            "Epoch 23/100\n",
            "470/470 [==============================] - 1s 1ms/step - loss: 0.6932 - accuracy: 0.5003\n",
            "Epoch 24/100\n",
            "470/470 [==============================] - 1s 1ms/step - loss: 0.6932 - accuracy: 0.5051\n",
            "Epoch 25/100\n",
            "470/470 [==============================] - 1s 1ms/step - loss: 0.6932 - accuracy: 0.4944\n",
            "Epoch 26/100\n",
            "470/470 [==============================] - 1s 1ms/step - loss: 0.6932 - accuracy: 0.4944\n",
            "Epoch 27/100\n",
            "470/470 [==============================] - 1s 2ms/step - loss: 0.6932 - accuracy: 0.4972\n",
            "Epoch 28/100\n",
            "470/470 [==============================] - 1s 1ms/step - loss: 0.6932 - accuracy: 0.5027\n",
            "Epoch 29/100\n",
            "470/470 [==============================] - 1s 1ms/step - loss: 0.6932 - accuracy: 0.5024\n",
            "Epoch 30/100\n",
            "470/470 [==============================] - 1s 1ms/step - loss: 0.6932 - accuracy: 0.5008\n",
            "Epoch 31/100\n",
            "470/470 [==============================] - 1s 1ms/step - loss: 0.6932 - accuracy: 0.4922\n",
            "Epoch 32/100\n",
            "470/470 [==============================] - 1s 1ms/step - loss: 0.6932 - accuracy: 0.4945\n",
            "Epoch 33/100\n",
            "470/470 [==============================] - 1s 1ms/step - loss: 0.6932 - accuracy: 0.4999\n",
            "Epoch 34/100\n",
            "470/470 [==============================] - 1s 1ms/step - loss: 0.6932 - accuracy: 0.4970\n",
            "Epoch 35/100\n",
            "470/470 [==============================] - 1s 2ms/step - loss: 0.6932 - accuracy: 0.4983\n",
            "Epoch 36/100\n",
            "470/470 [==============================] - 1s 1ms/step - loss: 0.6931 - accuracy: 0.5039\n",
            "Epoch 37/100\n",
            "470/470 [==============================] - 1s 1ms/step - loss: 0.6932 - accuracy: 0.5001\n",
            "Epoch 38/100\n",
            "470/470 [==============================] - 1s 1ms/step - loss: 0.6932 - accuracy: 0.4975\n",
            "Epoch 39/100\n",
            "470/470 [==============================] - 1s 1ms/step - loss: 0.6932 - accuracy: 0.5029\n",
            "Epoch 40/100\n",
            "470/470 [==============================] - 1s 1ms/step - loss: 0.6932 - accuracy: 0.4981\n",
            "Epoch 41/100\n",
            "470/470 [==============================] - 1s 1ms/step - loss: 0.6932 - accuracy: 0.5001\n",
            "Epoch 42/100\n",
            "470/470 [==============================] - 1s 1ms/step - loss: 0.6932 - accuracy: 0.4985\n",
            "Epoch 43/100\n",
            "470/470 [==============================] - 1s 1ms/step - loss: 0.6932 - accuracy: 0.4931\n",
            "Epoch 44/100\n",
            "470/470 [==============================] - 1s 1ms/step - loss: 0.6932 - accuracy: 0.4943\n",
            "Epoch 45/100\n",
            "470/470 [==============================] - 1s 1ms/step - loss: 0.6932 - accuracy: 0.5005\n",
            "Epoch 46/100\n",
            "470/470 [==============================] - 1s 1ms/step - loss: 0.6932 - accuracy: 0.5009\n",
            "Epoch 47/100\n",
            "470/470 [==============================] - 1s 2ms/step - loss: 0.6932 - accuracy: 0.4938\n",
            "Epoch 48/100\n",
            "470/470 [==============================] - 1s 2ms/step - loss: 0.6932 - accuracy: 0.5007\n",
            "Epoch 49/100\n",
            "470/470 [==============================] - 1s 1ms/step - loss: 0.6932 - accuracy: 0.4953\n",
            "Epoch 50/100\n",
            "470/470 [==============================] - 1s 1ms/step - loss: 0.6932 - accuracy: 0.4977\n",
            "Epoch 51/100\n",
            "470/470 [==============================] - 1s 1ms/step - loss: 0.6932 - accuracy: 0.4940\n",
            "Epoch 52/100\n",
            "470/470 [==============================] - 1s 1ms/step - loss: 0.6932 - accuracy: 0.5017\n",
            "Epoch 53/100\n",
            "470/470 [==============================] - 1s 1ms/step - loss: 0.6932 - accuracy: 0.4997\n",
            "Epoch 54/100\n",
            "470/470 [==============================] - 1s 1ms/step - loss: 0.6932 - accuracy: 0.5044\n",
            "Epoch 55/100\n",
            "470/470 [==============================] - 1s 1ms/step - loss: 0.6932 - accuracy: 0.5012\n",
            "Epoch 56/100\n",
            "470/470 [==============================] - 1s 1ms/step - loss: 0.6932 - accuracy: 0.4938\n",
            "Epoch 57/100\n",
            "470/470 [==============================] - 1s 1ms/step - loss: 0.6932 - accuracy: 0.5041\n",
            "Epoch 58/100\n",
            "470/470 [==============================] - 1s 1ms/step - loss: 0.6932 - accuracy: 0.4987\n",
            "Epoch 59/100\n",
            "470/470 [==============================] - 1s 1ms/step - loss: 0.6932 - accuracy: 0.4920\n",
            "Epoch 60/100\n",
            "470/470 [==============================] - 1s 1ms/step - loss: 0.6932 - accuracy: 0.4933\n",
            "Epoch 61/100\n",
            "470/470 [==============================] - 1s 2ms/step - loss: 0.6932 - accuracy: 0.4975\n",
            "Epoch 62/100\n",
            "470/470 [==============================] - 1s 1ms/step - loss: 0.6932 - accuracy: 0.5017\n",
            "Epoch 63/100\n",
            "470/470 [==============================] - 1s 1ms/step - loss: 0.6931 - accuracy: 0.5051\n",
            "Epoch 64/100\n",
            "470/470 [==============================] - 1s 1ms/step - loss: 0.6933 - accuracy: 0.4914\n",
            "Epoch 65/100\n",
            "470/470 [==============================] - 1s 2ms/step - loss: 0.6932 - accuracy: 0.4969\n",
            "Epoch 66/100\n",
            "470/470 [==============================] - 1s 1ms/step - loss: 0.6932 - accuracy: 0.4961\n",
            "Epoch 67/100\n",
            "470/470 [==============================] - 1s 1ms/step - loss: 0.6932 - accuracy: 0.4969\n",
            "Epoch 68/100\n",
            "470/470 [==============================] - 1s 2ms/step - loss: 0.6932 - accuracy: 0.4935\n",
            "Epoch 69/100\n",
            "470/470 [==============================] - 1s 2ms/step - loss: 0.6932 - accuracy: 0.4999\n",
            "Epoch 70/100\n",
            "470/470 [==============================] - 1s 1ms/step - loss: 0.6932 - accuracy: 0.4992\n",
            "Epoch 71/100\n",
            "470/470 [==============================] - 1s 1ms/step - loss: 0.6932 - accuracy: 0.4935\n",
            "Epoch 72/100\n",
            "470/470 [==============================] - 1s 1ms/step - loss: 0.6932 - accuracy: 0.4974\n",
            "Epoch 73/100\n",
            "470/470 [==============================] - 1s 1ms/step - loss: 0.6932 - accuracy: 0.5015\n",
            "Epoch 74/100\n",
            "470/470 [==============================] - 1s 1ms/step - loss: 0.6932 - accuracy: 0.4920\n",
            "Epoch 75/100\n",
            "470/470 [==============================] - 1s 1ms/step - loss: 0.6932 - accuracy: 0.5007\n",
            "Epoch 76/100\n",
            "470/470 [==============================] - 1s 1ms/step - loss: 0.6932 - accuracy: 0.5025\n",
            "Epoch 77/100\n",
            "470/470 [==============================] - 1s 2ms/step - loss: 0.6932 - accuracy: 0.4983\n",
            "Epoch 78/100\n",
            "470/470 [==============================] - 1s 1ms/step - loss: 0.6932 - accuracy: 0.4947\n",
            "Epoch 79/100\n",
            "470/470 [==============================] - 1s 1ms/step - loss: 0.6932 - accuracy: 0.5021\n",
            "Epoch 80/100\n",
            "470/470 [==============================] - 1s 2ms/step - loss: 0.6932 - accuracy: 0.4935\n",
            "Epoch 81/100\n",
            "470/470 [==============================] - 1s 1ms/step - loss: 0.6932 - accuracy: 0.5009\n",
            "Epoch 82/100\n",
            "470/470 [==============================] - 1s 1ms/step - loss: 0.6932 - accuracy: 0.4956\n",
            "Epoch 83/100\n",
            "470/470 [==============================] - 1s 1ms/step - loss: 0.6932 - accuracy: 0.4954\n",
            "Epoch 84/100\n",
            "470/470 [==============================] - 1s 1ms/step - loss: 0.6932 - accuracy: 0.4978\n",
            "Epoch 85/100\n",
            "470/470 [==============================] - 1s 2ms/step - loss: 0.6932 - accuracy: 0.4937\n",
            "Epoch 86/100\n",
            "470/470 [==============================] - 1s 1ms/step - loss: 0.6932 - accuracy: 0.4927\n",
            "Epoch 87/100\n",
            "470/470 [==============================] - 1s 1ms/step - loss: 0.6932 - accuracy: 0.4937\n",
            "Epoch 88/100\n",
            "470/470 [==============================] - 1s 1ms/step - loss: 0.6932 - accuracy: 0.4978\n",
            "Epoch 89/100\n",
            "470/470 [==============================] - 1s 2ms/step - loss: 0.6932 - accuracy: 0.4957\n",
            "Epoch 90/100\n",
            "470/470 [==============================] - 1s 2ms/step - loss: 0.6932 - accuracy: 0.4975\n",
            "Epoch 91/100\n",
            "470/470 [==============================] - 1s 1ms/step - loss: 0.6932 - accuracy: 0.5013\n",
            "Epoch 92/100\n",
            "470/470 [==============================] - 1s 1ms/step - loss: 0.6932 - accuracy: 0.4915\n",
            "Epoch 93/100\n",
            "470/470 [==============================] - 1s 1ms/step - loss: 0.6932 - accuracy: 0.5043\n",
            "Epoch 94/100\n",
            "470/470 [==============================] - 1s 2ms/step - loss: 0.6932 - accuracy: 0.4965\n",
            "Epoch 95/100\n",
            "470/470 [==============================] - 1s 2ms/step - loss: 0.6932 - accuracy: 0.4988\n",
            "Epoch 96/100\n",
            "470/470 [==============================] - 1s 1ms/step - loss: 0.6932 - accuracy: 0.5022\n",
            "Epoch 97/100\n",
            "470/470 [==============================] - 1s 1ms/step - loss: 0.6932 - accuracy: 0.5035\n",
            "Epoch 98/100\n",
            "470/470 [==============================] - 1s 1ms/step - loss: 0.6932 - accuracy: 0.4977\n",
            "Epoch 99/100\n",
            "470/470 [==============================] - 1s 1ms/step - loss: 0.6932 - accuracy: 0.4969\n",
            "Epoch 100/100\n",
            "470/470 [==============================] - 1s 1ms/step - loss: 0.6932 - accuracy: 0.4914\n"
          ]
        }
      ]
    },
    {
      "cell_type": "code",
      "metadata": {
        "colab": {
          "base_uri": "https://localhost:8080/"
        },
        "id": "HyOvRy9PFKUw",
        "outputId": "962074ec-cf17-4729-f6e3-168ffd528e12"
      },
      "source": [
        "model7.evaluate(X_val_sm, y_val_sm)"
      ],
      "execution_count": null,
      "outputs": [
        {
          "output_type": "stream",
          "name": "stdout",
          "text": [
            "180/180 [==============================] - 0s 1ms/step - loss: 0.6931 - accuracy: 0.5000\n"
          ]
        },
        {
          "output_type": "execute_result",
          "data": {
            "text/plain": [
              "[0.6931473016738892, 0.5]"
            ]
          },
          "metadata": {},
          "execution_count": 63
        }
      ]
    },
    {
      "cell_type": "code",
      "metadata": {
        "colab": {
          "base_uri": "https://localhost:8080/",
          "height": 324
        },
        "id": "oZh4mj3xEvuG",
        "outputId": "3f1af85c-92c0-4034-c619-49106ea99b33"
      },
      "source": [
        "# 그래프\n",
        "pd.DataFrame(history7.history).plot(figsize = (15, 5))    \n",
        "plt.grid(True)\n",
        "plt.gca().set_ylim(0, 1)\n",
        "plt.show()"
      ],
      "execution_count": null,
      "outputs": [
        {
          "output_type": "display_data",
          "data": {
            "image/png": "[encoded data removed]",
            "text/plain": [
              "<Figure size 1080x360 with 1 Axes>"
            ]
          },
          "metadata": {
            "needs_background": "light"
          }
        }
      ]
    }
  ]
}