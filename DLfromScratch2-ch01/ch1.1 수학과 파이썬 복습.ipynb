{
 "cells": [
  {
   "cell_type": "markdown",
   "id": "fad0cd21",
   "metadata": {},
   "source": [
    "밑바닥부터 시작하는 딥러닝 2\n",
    "# 1.1 수학과 파이썬 복습"
   ]
  },
  {
   "cell_type": "markdown",
   "id": "944c44c3",
   "metadata": {},
   "source": [
    "## 백터와 행렬"
   ]
  },
  {
   "cell_type": "code",
   "execution_count": 1,
   "id": "d6d2a0df",
   "metadata": {},
   "outputs": [
    {
     "name": "stdout",
     "output_type": "stream",
     "text": [
      "<class 'numpy.ndarray'>\n",
      "(3,)\n",
      "1\n"
     ]
    }
   ],
   "source": [
    "import numpy as np\n",
    " \n",
    "x = np.array([1, 2, 3])\n",
    "print(x.__class__) # 클래스 이름\n",
    "print(x.shape) # 형상(값 하나일 때는 뒤에 쉼표)\n",
    "print(x.ndim) #차원 수"
   ]
  },
  {
   "cell_type": "markdown",
   "id": "aea7cccc",
   "metadata": {},
   "source": [
    "* 1차원, 원소 수가 3개인 벡터"
   ]
  },
  {
   "cell_type": "code",
   "execution_count": 2,
   "id": "5a58862c",
   "metadata": {},
   "outputs": [
    {
     "name": "stdout",
     "output_type": "stream",
     "text": [
      "(2, 3)\n",
      "2\n"
     ]
    }
   ],
   "source": [
    "W = np.array([[1, 2, 3], [4, 5, 6]])\n",
    "print(W.shape) # 형상\n",
    "print(W.ndim) #차원 수"
   ]
  },
  {
   "cell_type": "markdown",
   "id": "83002e92",
   "metadata": {},
   "source": [
    "* 2차원 배열, 2 by 3행렬"
   ]
  },
  {
   "cell_type": "markdown",
   "id": "481ec1be",
   "metadata": {},
   "source": [
    "## 행렬의 원소별 연산"
   ]
  },
  {
   "cell_type": "code",
   "execution_count": 3,
   "id": "6be8ed59",
   "metadata": {},
   "outputs": [
    {
     "name": "stdout",
     "output_type": "stream",
     "text": [
      "[[ 1  3  5]\n",
      " [ 7  9 11]]\n",
      "--------------------\n",
      "[[ 0  1  4]\n",
      " [ 9 16 25]]\n"
     ]
    }
   ],
   "source": [
    "W = np.array([[1, 2, 3], [4, 5, 6]])\n",
    "X = np.array([[0, 1, 2], [3, 4, 5]])\n",
    "print(W + X) #합\n",
    "print(\"-\" * 20)\n",
    "print(X * X) #곱"
   ]
  },
  {
   "cell_type": "markdown",
   "id": "f8bd27c5",
   "metadata": {},
   "source": [
    "## 브로드캐스트"
   ]
  },
  {
   "cell_type": "code",
   "execution_count": 4,
   "id": "55ae17e6",
   "metadata": {},
   "outputs": [
    {
     "name": "stdout",
     "output_type": "stream",
     "text": [
      "[[10 20]\n",
      " [30 40]]\n"
     ]
    }
   ],
   "source": [
    "A = np.array([[1, 2], [3, 4]])\n",
    "print(A * 10)"
   ]
  },
  {
   "cell_type": "code",
   "execution_count": 5,
   "id": "47def049",
   "metadata": {},
   "outputs": [
    {
     "name": "stdout",
     "output_type": "stream",
     "text": [
      "[[10 40]\n",
      " [30 80]]\n"
     ]
    }
   ],
   "source": [
    "A = np.array([[1, 2], [3, 4]])\n",
    "b = np.array([10, 20])\n",
    "print(A*b)"
   ]
  },
  {
   "cell_type": "markdown",
   "id": "eaf98764",
   "metadata": {},
   "source": [
    "## 벡터의 내적과 행렬의 곱"
   ]
  },
  {
   "cell_type": "code",
   "execution_count": 6,
   "id": "a1a90bc6",
   "metadata": {},
   "outputs": [
    {
     "data": {
      "text/plain": [
       "32"
      ]
     },
     "execution_count": 6,
     "metadata": {},
     "output_type": "execute_result"
    }
   ],
   "source": [
    "# 벡터의 내적\n",
    "a = np.array([1, 2, 3])\n",
    "b = np.array([4, 5, 6])\n",
    "np.dot(a, b)"
   ]
  },
  {
   "cell_type": "markdown",
   "id": "b4a8e05f",
   "metadata": {},
   "source": [
    "* 두 벡터가 얼마나 같은 방향을 향하고 있는가"
   ]
  },
  {
   "cell_type": "code",
   "execution_count": 7,
   "id": "0cea54fe",
   "metadata": {},
   "outputs": [
    {
     "data": {
      "text/plain": [
       "array([[19, 22],\n",
       "       [43, 50]])"
      ]
     },
     "execution_count": 7,
     "metadata": {},
     "output_type": "execute_result"
    }
   ],
   "source": [
    "# 행렬의 곱\n",
    "A = np.array([[1, 2], [3, 4]])\n",
    "B = np.array([[5, 6], [7, 8]])\n",
    "np.matmul(A, B)"
   ]
  },
  {
   "cell_type": "code",
   "execution_count": 8,
   "id": "92cbecf2",
   "metadata": {},
   "outputs": [
    {
     "data": {
      "text/plain": [
       "array([[19, 22],\n",
       "       [43, 50]])"
      ]
     },
     "execution_count": 8,
     "metadata": {},
     "output_type": "execute_result"
    }
   ],
   "source": [
    "# 행렬의 곱 (np.dot도 가능. 1차원 배열일 때는 벡터의 내적을 계산하고, 2차원 배열일 떄는 행렬의 곱 계산)\n",
    "A = np.array([[1, 2], [3, 4]])\n",
    "B = np.array([[5, 6], [7, 8]])\n",
    "np.dot(A, B)"
   ]
  },
  {
   "cell_type": "markdown",
   "id": "59a1715d",
   "metadata": {},
   "source": [
    "## 행렬 형상 확인"
   ]
  },
  {
   "cell_type": "markdown",
   "id": "04e7729e",
   "metadata": {},
   "source": [
    "* 형상 확인: 행렬의 곱에서는 대응하는 차원의 원소 수를 일치시켜야 함"
   ]
  }
 ],
 "metadata": {
  "kernelspec": {
   "display_name": "Python 3 (ipykernel)",
   "language": "python",
   "name": "python3"
  },
  "language_info": {
   "codemirror_mode": {
    "name": "ipython",
    "version": 3
   },
   "file_extension": ".py",
   "mimetype": "text/x-python",
   "name": "python",
   "nbconvert_exporter": "python",
   "pygments_lexer": "ipython3",
   "version": "3.8.8"
  }
 },
 "nbformat": 4,
 "nbformat_minor": 5
}
